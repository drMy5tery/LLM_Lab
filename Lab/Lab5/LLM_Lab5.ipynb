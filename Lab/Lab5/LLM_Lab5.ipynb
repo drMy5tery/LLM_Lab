{
  "cells": [
    {
      "cell_type": "code",
      "execution_count": 18,
      "id": "5fe6e826-43b8-4eb2-9704-5fae7954604d",
      "metadata": {
        "scrolled": true,
        "collapsed": true,
        "id": "5fe6e826-43b8-4eb2-9704-5fae7954604d"
      },
      "outputs": [],
      "source": [
        "#!pip list"
      ]
    },
    {
      "cell_type": "code",
      "execution_count": 19,
      "id": "0c155302-37fa-4677-8253-f8e60a722240",
      "metadata": {
        "id": "0c155302-37fa-4677-8253-f8e60a722240"
      },
      "outputs": [],
      "source": [
        "#!pip install accelerate>=0.26.0"
      ]
    },
    {
      "cell_type": "code",
      "execution_count": 20,
      "id": "90dc7f08-9fed-49a1-8bea-747ca33ab7f9",
      "metadata": {
        "collapsed": true,
        "jupyter": {
          "outputs_hidden": true
        },
        "scrolled": true,
        "id": "90dc7f08-9fed-49a1-8bea-747ca33ab7f9"
      },
      "outputs": [],
      "source": [
        "#!pip install -U datasets huggingface_hub fsspec"
      ]
    },
    {
      "cell_type": "code",
      "execution_count": 21,
      "id": "795aef33-1330-4086-8de1-34ab95090da1",
      "metadata": {
        "collapsed": true,
        "jupyter": {
          "outputs_hidden": true
        },
        "id": "795aef33-1330-4086-8de1-34ab95090da1"
      },
      "outputs": [],
      "source": [
        "#!pip install seaborn"
      ]
    },
    {
      "cell_type": "code",
      "execution_count": 22,
      "id": "b1ac063b-a06b-4b66-8eaf-30c900594413",
      "metadata": {
        "id": "b1ac063b-a06b-4b66-8eaf-30c900594413"
      },
      "outputs": [],
      "source": [
        "import pandas as pd\n",
        "import torch\n",
        "from transformers import (\n",
        "    AutoModelForSequenceClassification,\n",
        "    AutoTokenizer,\n",
        "    BertTokenizer,\n",
        "    BertForSequenceClassification\n",
        "\n",
        ")\n",
        "import seaborn as sns"
      ]
    },
    {
      "cell_type": "code",
      "execution_count": 23,
      "id": "53fc5d27-25bf-4ce4-bcce-37a3f585abfd",
      "metadata": {
        "colab": {
          "base_uri": "https://localhost:8080/"
        },
        "id": "53fc5d27-25bf-4ce4-bcce-37a3f585abfd",
        "outputId": "d18d48ca-dee5-4acd-b1d9-7df5d5662cb1"
      },
      "outputs": [
        {
          "output_type": "stream",
          "name": "stderr",
          "text": [
            "Some weights of BertForSequenceClassification were not initialized from the model checkpoint at bert-base-uncased and are newly initialized: ['classifier.bias', 'classifier.weight']\n",
            "You should probably TRAIN this model on a down-stream task to be able to use it for predictions and inference.\n"
          ]
        }
      ],
      "source": [
        "from transformers import BertForSequenceClassification, BertTokenizer\n",
        "import torch\n",
        "\n",
        "tokenizer = BertTokenizer.from_pretrained('bert-base-uncased')\n",
        "model = BertForSequenceClassification.from_pretrained('bert-base-uncased', num_labels=2) # 2 labels for positive/negative sentiment"
      ]
    },
    {
      "cell_type": "code",
      "execution_count": 24,
      "id": "5a77dcdc-dd61-4f86-9c14-16510375ecb5",
      "metadata": {
        "collapsed": true,
        "id": "5a77dcdc-dd61-4f86-9c14-16510375ecb5"
      },
      "outputs": [],
      "source": [
        "from datasets import load_dataset\n",
        "\n",
        "dataset = load_dataset(\"imdb\")\n"
      ]
    },
    {
      "cell_type": "code",
      "execution_count": 25,
      "id": "d0d9c9d8-913f-4eb7-9ee7-8e4e6eb01ab7",
      "metadata": {
        "id": "d0d9c9d8-913f-4eb7-9ee7-8e4e6eb01ab7"
      },
      "outputs": [],
      "source": [
        "train_subset_size = 500\n",
        "test_subset_size = 150\n",
        "\n",
        "\n",
        "shuffled_train_dataset = dataset[\"train\"].shuffle(seed=42) # Using a seed for reproducibility\n",
        "shuffled_test_dataset = dataset[\"test\"].shuffle(seed=42)\n",
        "\n",
        "train_subset = shuffled_train_dataset.select(range(train_subset_size))\n",
        "test_subset = shuffled_test_dataset.select(range(test_subset_size))\n",
        "\n",
        "\n",
        "subset_dataset = {\n",
        "    \"train\": train_subset,\n",
        "    \"test\": test_subset\n",
        "}\n"
      ]
    },
    {
      "cell_type": "code",
      "source": [
        "def tokenize_function(examples):\n",
        "    return tokenizer(examples[\"text\"], padding=\"max_length\", truncation=True, max_length=512)\n",
        "\n",
        "tokenized_datasets = subset_dataset[\"train\"].map(tokenize_function, batched=True), \\\n",
        "                     subset_dataset[\"test\"].map(tokenize_function, batched=True)\n",
        "\n",
        "tokenized_datasets = {\n",
        "    \"train\": tokenized_datasets[0],\n",
        "    \"test\": tokenized_datasets[1]\n",
        "}\n",
        "\n",
        "tokenized_datasets[\"train\"] = tokenized_datasets[\"train\"].rename_column(\"label\", \"labels\")\n",
        "tokenized_datasets[\"test\"] = tokenized_datasets[\"test\"].rename_column(\"label\", \"labels\")\n",
        "\n",
        "tokenized_datasets[\"train\"].set_format(\"torch\", columns=[\"input_ids\", \"attention_mask\", \"labels\"])\n",
        "tokenized_datasets[\"test\"].set_format(\"torch\", columns=[\"input_ids\", \"attention_mask\", \"labels\"])\n",
        "\n",
        "print(f\"Number of rows in training subset: {len(tokenized_datasets['train'])}\")\n",
        "print(f\"Number of rows in testing subset: {len(tokenized_datasets['test'])}\")"
      ],
      "metadata": {
        "colab": {
          "base_uri": "https://localhost:8080/",
          "height": 116,
          "referenced_widgets": [
            "0e33588a828548cf88d335b7dab7e21a",
            "23ef03e0da8d419d8787231d5f2b1888",
            "b59cbb98274c4c21a0b2766110fa3111",
            "b1f494bfcbc144449f3b1d00fd648a76",
            "4681df7611774d8095eeefadc9fe82a3",
            "7c8a6836e085481ebbab8d1d6215c400",
            "67cd387d064d480e9ba9a59cdc6017f2",
            "3958035ac11b48b79ee4bb4df95e6ef2",
            "31aeb7293a374afb867dd87e400f011b",
            "2311e013459948f1925be833b0e90d1d",
            "f6b2819bd9ee42a7af35e93f9856473e",
            "bc48758078924091b98f62edb1506bb6",
            "f01e4b139a9d483fb04a586f1231665c",
            "1d692a7415524a26bf0f17fd5f1e79e1",
            "a27250b77944452f851560a5b6abb071",
            "1d1c5986d79a48f1a9698fa968f5b757",
            "f534f242722b4683b7b2bf663a10290e",
            "acdfec06b18f40bd92452b84638f1c5f",
            "6f0e596cd80b44f9b83f0a1f45467219",
            "10121e7a13e44baf994f9ea3710595ff",
            "301141c14dc841cfa5a898d23c4d034e",
            "f350025997054514a72e1846f26724da"
          ]
        },
        "id": "Lxh_f7jtM6ru",
        "outputId": "2626775d-9678-4b1c-f9a2-8c885cb1ad9b"
      },
      "id": "Lxh_f7jtM6ru",
      "execution_count": 26,
      "outputs": [
        {
          "output_type": "display_data",
          "data": {
            "text/plain": [
              "Map:   0%|          | 0/500 [00:00<?, ? examples/s]"
            ],
            "application/vnd.jupyter.widget-view+json": {
              "version_major": 2,
              "version_minor": 0,
              "model_id": "0e33588a828548cf88d335b7dab7e21a"
            }
          },
          "metadata": {}
        },
        {
          "output_type": "display_data",
          "data": {
            "text/plain": [
              "Map:   0%|          | 0/150 [00:00<?, ? examples/s]"
            ],
            "application/vnd.jupyter.widget-view+json": {
              "version_major": 2,
              "version_minor": 0,
              "model_id": "bc48758078924091b98f62edb1506bb6"
            }
          },
          "metadata": {}
        },
        {
          "output_type": "stream",
          "name": "stdout",
          "text": [
            "Number of rows in training subset: 500\n",
            "Number of rows in testing subset: 150\n"
          ]
        }
      ]
    },
    {
      "cell_type": "code",
      "execution_count": 27,
      "id": "22a0d4ac-0882-4afd-9c34-aa03c349d46d",
      "metadata": {
        "scrolled": true,
        "colab": {
          "base_uri": "https://localhost:8080/",
          "height": 265
        },
        "id": "22a0d4ac-0882-4afd-9c34-aa03c349d46d",
        "outputId": "52256e07-b2d3-46d6-da08-0524078158a5"
      },
      "outputs": [
        {
          "output_type": "stream",
          "name": "stderr",
          "text": [
            "Some weights of BertForSequenceClassification were not initialized from the model checkpoint at bert-base-uncased and are newly initialized: ['classifier.bias', 'classifier.weight']\n",
            "You should probably TRAIN this model on a down-stream task to be able to use it for predictions and inference.\n"
          ]
        },
        {
          "output_type": "display_data",
          "data": {
            "text/plain": [
              "<IPython.core.display.HTML object>"
            ],
            "text/html": [
              "\n",
              "    <div>\n",
              "      \n",
              "      <progress value='189' max='189' style='width:300px; height:20px; vertical-align: middle;'></progress>\n",
              "      [189/189 04:50, Epoch 3/3]\n",
              "    </div>\n",
              "    <table border=\"1\" class=\"dataframe\">\n",
              "  <thead>\n",
              " <tr style=\"text-align: left;\">\n",
              "      <th>Epoch</th>\n",
              "      <th>Training Loss</th>\n",
              "      <th>Validation Loss</th>\n",
              "      <th>Accuracy</th>\n",
              "      <th>Precision</th>\n",
              "      <th>Recall</th>\n",
              "      <th>F1</th>\n",
              "    </tr>\n",
              "  </thead>\n",
              "  <tbody>\n",
              "    <tr>\n",
              "      <td>1</td>\n",
              "      <td>No log</td>\n",
              "      <td>0.676114</td>\n",
              "      <td>0.593333</td>\n",
              "      <td>0.589286</td>\n",
              "      <td>0.464789</td>\n",
              "      <td>0.519685</td>\n",
              "    </tr>\n",
              "    <tr>\n",
              "      <td>2</td>\n",
              "      <td>0.682800</td>\n",
              "      <td>0.605054</td>\n",
              "      <td>0.686667</td>\n",
              "      <td>0.611111</td>\n",
              "      <td>0.929577</td>\n",
              "      <td>0.737430</td>\n",
              "    </tr>\n",
              "    <tr>\n",
              "      <td>3</td>\n",
              "      <td>0.682800</td>\n",
              "      <td>0.305721</td>\n",
              "      <td>0.860000</td>\n",
              "      <td>0.828947</td>\n",
              "      <td>0.887324</td>\n",
              "      <td>0.857143</td>\n",
              "    </tr>\n",
              "  </tbody>\n",
              "</table><p>"
            ]
          },
          "metadata": {}
        },
        {
          "output_type": "display_data",
          "data": {
            "text/plain": [
              "<IPython.core.display.HTML object>"
            ],
            "text/html": [
              "\n",
              "    <div>\n",
              "      \n",
              "      <progress value='19' max='19' style='width:300px; height:20px; vertical-align: middle;'></progress>\n",
              "      [19/19 00:03]\n",
              "    </div>\n",
              "    "
            ]
          },
          "metadata": {}
        },
        {
          "output_type": "stream",
          "name": "stdout",
          "text": [
            "{'eval_loss': 0.30572056770324707, 'eval_accuracy': 0.86, 'eval_precision': 0.8289473684210527, 'eval_recall': 0.8873239436619719, 'eval_f1': 0.8571428571428571, 'eval_runtime': 4.2148, 'eval_samples_per_second': 35.589, 'eval_steps_per_second': 4.508, 'epoch': 3.0}\n"
          ]
        }
      ],
      "source": [
        "import numpy as np\n",
        "from sklearn.metrics import accuracy_score, precision_recall_fscore_support\n",
        "from transformers import TrainingArguments, Trainer\n",
        "\n",
        "def compute_metrics(p):\n",
        "    predictions, labels = p\n",
        "    predictions = np.argmax(predictions, axis=1)\n",
        "    accuracy = accuracy_score(labels, predictions)\n",
        "    precision, recall, f1, _ = precision_recall_fscore_support(labels, predictions, average='binary')\n",
        "    return {\"accuracy\": accuracy, \"precision\": precision, \"recall\": recall, \"f1\": f1}\n",
        "\n",
        "training_args = TrainingArguments(\n",
        "    output_dir=\"./results\",\n",
        "    num_train_epochs=3,\n",
        "    per_device_train_batch_size=8,\n",
        "    per_device_eval_batch_size=8,\n",
        "    warmup_steps=500,\n",
        "    weight_decay=0.01,\n",
        "    logging_dir=\"./logs\",\n",
        "    logging_steps=100,\n",
        "    eval_strategy=\"epoch\",\n",
        "    save_strategy=\"epoch\",\n",
        "    load_best_model_at_end=True,\n",
        "    metric_for_best_model=\"accuracy\",\n",
        ")\n",
        "\n",
        "model = BertForSequenceClassification.from_pretrained('bert-base-uncased', num_labels=2)\n",
        "\n",
        "trainer = Trainer(\n",
        "    model=model,\n",
        "    args=training_args,\n",
        "    train_dataset=tokenized_datasets[\"train\"],\n",
        "    eval_dataset=tokenized_datasets[\"test\"],\n",
        "    compute_metrics=compute_metrics,\n",
        ")\n",
        "\n",
        "trainer.train()\n",
        "\n",
        "results = trainer.evaluate()\n",
        "print(results)"
      ]
    },
    {
      "cell_type": "markdown",
      "source": [
        "The model has successfully learned the classification task with high performance metrics. With an F1 score of 85.7%, it is well-suited for deployment or further fine-tuning. The strong improvement across epochs suggests that training was effective and that the model is not underfitting."
      ],
      "metadata": {
        "id": "fIqOxfPDYVOm"
      },
      "id": "fIqOxfPDYVOm"
    },
    {
      "cell_type": "code",
      "source": [
        "tokenized_datasets"
      ],
      "metadata": {
        "colab": {
          "base_uri": "https://localhost:8080/"
        },
        "id": "WcmumKv_6sc5",
        "outputId": "1b22e5f8-ded7-408c-906d-2f024f1d068a"
      },
      "id": "WcmumKv_6sc5",
      "execution_count": 28,
      "outputs": [
        {
          "output_type": "execute_result",
          "data": {
            "text/plain": [
              "{'train': Dataset({\n",
              "     features: ['text', 'labels', 'input_ids', 'token_type_ids', 'attention_mask'],\n",
              "     num_rows: 500\n",
              " }),\n",
              " 'test': Dataset({\n",
              "     features: ['text', 'labels', 'input_ids', 'token_type_ids', 'attention_mask'],\n",
              "     num_rows: 150\n",
              " })}"
            ]
          },
          "metadata": {},
          "execution_count": 28
        }
      ]
    },
    {
      "cell_type": "code",
      "execution_count": 29,
      "id": "80ce9490-a22d-483f-bef1-73d15ad9d464",
      "metadata": {
        "collapsed": true,
        "jupyter": {
          "outputs_hidden": true
        },
        "scrolled": true,
        "id": "80ce9490-a22d-483f-bef1-73d15ad9d464"
      },
      "outputs": [],
      "source": [
        "#!pip install --upgrade transformers\n",
        "#!pip install accelerate>=0.26.0"
      ]
    },
    {
      "cell_type": "code",
      "execution_count": 30,
      "id": "b3753b26-555d-4765-b02e-0c98b9e90efd",
      "metadata": {
        "collapsed": true,
        "jupyter": {
          "outputs_hidden": true
        },
        "scrolled": true,
        "id": "b3753b26-555d-4765-b02e-0c98b9e90efd"
      },
      "outputs": [],
      "source": [
        "#!pip list"
      ]
    },
    {
      "cell_type": "code",
      "execution_count": 31,
      "id": "098f8520-ec30-498f-96d0-3fe2bb78ba48",
      "metadata": {
        "id": "098f8520-ec30-498f-96d0-3fe2bb78ba48"
      },
      "outputs": [],
      "source": [
        "from transformers import BertForTokenClassification, BertTokenizer\n",
        "import torch\n",
        "\n",
        "tokenizer2 = BertTokenizer.from_pretrained('bert-base-uncased')\n",
        "\n"
      ]
    },
    {
      "cell_type": "code",
      "source": [
        "!pip install datasets==3.6.0"
      ],
      "metadata": {
        "colab": {
          "base_uri": "https://localhost:8080/"
        },
        "collapsed": true,
        "id": "2NktIMWF8V5l",
        "outputId": "2a701c7b-bb3b-4762-baf0-f63f16717050"
      },
      "id": "2NktIMWF8V5l",
      "execution_count": 32,
      "outputs": [
        {
          "output_type": "stream",
          "name": "stdout",
          "text": [
            "Requirement already satisfied: datasets==3.6.0 in /usr/local/lib/python3.11/dist-packages (3.6.0)\n",
            "Requirement already satisfied: filelock in /usr/local/lib/python3.11/dist-packages (from datasets==3.6.0) (3.18.0)\n",
            "Requirement already satisfied: numpy>=1.17 in /usr/local/lib/python3.11/dist-packages (from datasets==3.6.0) (2.0.2)\n",
            "Requirement already satisfied: pyarrow>=15.0.0 in /usr/local/lib/python3.11/dist-packages (from datasets==3.6.0) (18.1.0)\n",
            "Requirement already satisfied: dill<0.3.9,>=0.3.0 in /usr/local/lib/python3.11/dist-packages (from datasets==3.6.0) (0.3.7)\n",
            "Requirement already satisfied: pandas in /usr/local/lib/python3.11/dist-packages (from datasets==3.6.0) (2.2.2)\n",
            "Requirement already satisfied: requests>=2.32.2 in /usr/local/lib/python3.11/dist-packages (from datasets==3.6.0) (2.32.3)\n",
            "Requirement already satisfied: tqdm>=4.66.3 in /usr/local/lib/python3.11/dist-packages (from datasets==3.6.0) (4.67.1)\n",
            "Requirement already satisfied: xxhash in /usr/local/lib/python3.11/dist-packages (from datasets==3.6.0) (3.5.0)\n",
            "Requirement already satisfied: multiprocess<0.70.17 in /usr/local/lib/python3.11/dist-packages (from datasets==3.6.0) (0.70.15)\n",
            "Requirement already satisfied: fsspec<=2025.3.0,>=2023.1.0 in /usr/local/lib/python3.11/dist-packages (from fsspec[http]<=2025.3.0,>=2023.1.0->datasets==3.6.0) (2025.3.0)\n",
            "Requirement already satisfied: huggingface-hub>=0.24.0 in /usr/local/lib/python3.11/dist-packages (from datasets==3.6.0) (0.33.4)\n",
            "Requirement already satisfied: packaging in /usr/local/lib/python3.11/dist-packages (from datasets==3.6.0) (25.0)\n",
            "Requirement already satisfied: pyyaml>=5.1 in /usr/local/lib/python3.11/dist-packages (from datasets==3.6.0) (6.0.2)\n",
            "Requirement already satisfied: aiohttp!=4.0.0a0,!=4.0.0a1 in /usr/local/lib/python3.11/dist-packages (from fsspec[http]<=2025.3.0,>=2023.1.0->datasets==3.6.0) (3.11.15)\n",
            "Requirement already satisfied: typing-extensions>=3.7.4.3 in /usr/local/lib/python3.11/dist-packages (from huggingface-hub>=0.24.0->datasets==3.6.0) (4.14.1)\n",
            "Requirement already satisfied: hf-xet<2.0.0,>=1.1.2 in /usr/local/lib/python3.11/dist-packages (from huggingface-hub>=0.24.0->datasets==3.6.0) (1.1.5)\n",
            "Requirement already satisfied: charset-normalizer<4,>=2 in /usr/local/lib/python3.11/dist-packages (from requests>=2.32.2->datasets==3.6.0) (3.4.2)\n",
            "Requirement already satisfied: idna<4,>=2.5 in /usr/local/lib/python3.11/dist-packages (from requests>=2.32.2->datasets==3.6.0) (3.10)\n",
            "Requirement already satisfied: urllib3<3,>=1.21.1 in /usr/local/lib/python3.11/dist-packages (from requests>=2.32.2->datasets==3.6.0) (2.5.0)\n",
            "Requirement already satisfied: certifi>=2017.4.17 in /usr/local/lib/python3.11/dist-packages (from requests>=2.32.2->datasets==3.6.0) (2025.7.14)\n",
            "Requirement already satisfied: python-dateutil>=2.8.2 in /usr/local/lib/python3.11/dist-packages (from pandas->datasets==3.6.0) (2.9.0.post0)\n",
            "Requirement already satisfied: pytz>=2020.1 in /usr/local/lib/python3.11/dist-packages (from pandas->datasets==3.6.0) (2025.2)\n",
            "Requirement already satisfied: tzdata>=2022.7 in /usr/local/lib/python3.11/dist-packages (from pandas->datasets==3.6.0) (2025.2)\n",
            "Requirement already satisfied: aiohappyeyeballs>=2.3.0 in /usr/local/lib/python3.11/dist-packages (from aiohttp!=4.0.0a0,!=4.0.0a1->fsspec[http]<=2025.3.0,>=2023.1.0->datasets==3.6.0) (2.6.1)\n",
            "Requirement already satisfied: aiosignal>=1.1.2 in /usr/local/lib/python3.11/dist-packages (from aiohttp!=4.0.0a0,!=4.0.0a1->fsspec[http]<=2025.3.0,>=2023.1.0->datasets==3.6.0) (1.4.0)\n",
            "Requirement already satisfied: attrs>=17.3.0 in /usr/local/lib/python3.11/dist-packages (from aiohttp!=4.0.0a0,!=4.0.0a1->fsspec[http]<=2025.3.0,>=2023.1.0->datasets==3.6.0) (25.3.0)\n",
            "Requirement already satisfied: frozenlist>=1.1.1 in /usr/local/lib/python3.11/dist-packages (from aiohttp!=4.0.0a0,!=4.0.0a1->fsspec[http]<=2025.3.0,>=2023.1.0->datasets==3.6.0) (1.7.0)\n",
            "Requirement already satisfied: multidict<7.0,>=4.5 in /usr/local/lib/python3.11/dist-packages (from aiohttp!=4.0.0a0,!=4.0.0a1->fsspec[http]<=2025.3.0,>=2023.1.0->datasets==3.6.0) (6.6.3)\n",
            "Requirement already satisfied: propcache>=0.2.0 in /usr/local/lib/python3.11/dist-packages (from aiohttp!=4.0.0a0,!=4.0.0a1->fsspec[http]<=2025.3.0,>=2023.1.0->datasets==3.6.0) (0.3.2)\n",
            "Requirement already satisfied: yarl<2.0,>=1.17.0 in /usr/local/lib/python3.11/dist-packages (from aiohttp!=4.0.0a0,!=4.0.0a1->fsspec[http]<=2025.3.0,>=2023.1.0->datasets==3.6.0) (1.20.1)\n",
            "Requirement already satisfied: six>=1.5 in /usr/local/lib/python3.11/dist-packages (from python-dateutil>=2.8.2->pandas->datasets==3.6.0) (1.17.0)\n"
          ]
        }
      ]
    },
    {
      "cell_type": "code",
      "source": [
        "from datasets import load_dataset\n",
        "dataset2 = load_dataset(\"conll2003\", trust_remote_code=True)"
      ],
      "metadata": {
        "id": "-8b5_QJm7zhN"
      },
      "id": "-8b5_QJm7zhN",
      "execution_count": 33,
      "outputs": []
    },
    {
      "cell_type": "code",
      "source": [
        "label_list = dataset2[\"train\"].features[\"ner_tags\"].feature.names\n",
        "print(label_list)\n",
        "\n",
        "id2label = {i: label for i, label in enumerate(label_list)}\n",
        "label2id = {label: i for i, label in enumerate(label_list)}\n",
        "num_labels = len(label_list)\n",
        "\n",
        "print(f\"Number of unique NER labels: {num_labels}\")\n",
        "print(f\"Label mapping: {id2label}\")\n",
        "\n",
        "model = BertForTokenClassification.from_pretrained(\n",
        "    'bert-base-uncased',\n",
        "    num_labels=num_labels,\n",
        "    id2label=id2label,\n",
        "    label2id=label2id\n",
        ")"
      ],
      "metadata": {
        "colab": {
          "base_uri": "https://localhost:8080/"
        },
        "id": "vNvCispX72yq",
        "outputId": "af728224-0939-4241-8254-3ebb21568507"
      },
      "id": "vNvCispX72yq",
      "execution_count": 34,
      "outputs": [
        {
          "output_type": "stream",
          "name": "stdout",
          "text": [
            "['O', 'B-PER', 'I-PER', 'B-ORG', 'I-ORG', 'B-LOC', 'I-LOC', 'B-MISC', 'I-MISC']\n",
            "Number of unique NER labels: 9\n",
            "Label mapping: {0: 'O', 1: 'B-PER', 2: 'I-PER', 3: 'B-ORG', 4: 'I-ORG', 5: 'B-LOC', 6: 'I-LOC', 7: 'B-MISC', 8: 'I-MISC'}\n"
          ]
        },
        {
          "output_type": "stream",
          "name": "stderr",
          "text": [
            "Some weights of BertForTokenClassification were not initialized from the model checkpoint at bert-base-uncased and are newly initialized: ['classifier.bias', 'classifier.weight']\n",
            "You should probably TRAIN this model on a down-stream task to be able to use it for predictions and inference.\n"
          ]
        }
      ]
    },
    {
      "cell_type": "code",
      "source": [
        "#!pip install evaluate\n",
        "#!pip install seqeval"
      ],
      "metadata": {
        "collapsed": true,
        "id": "Ymf0HIZB9MK8"
      },
      "id": "Ymf0HIZB9MK8",
      "execution_count": 35,
      "outputs": []
    },
    {
      "cell_type": "code",
      "source": [
        "from transformers import BertForTokenClassification, BertTokenizerFast\n",
        "from evaluate import load\n",
        "\n",
        "tokenizer = BertTokenizerFast.from_pretrained('bert-base-uncased') # Use BertTokenizerFast\n"
      ],
      "metadata": {
        "id": "lwms8tVL8s00"
      },
      "id": "lwms8tVL8s00",
      "execution_count": 36,
      "outputs": []
    },
    {
      "cell_type": "code",
      "source": [
        "dataset = load_dataset(\"conll2003\", trust_remote_code=True)\n",
        "\n",
        "label_list = dataset[\"train\"].features[\"ner_tags\"].feature.names\n",
        "id2label = {i: label for i, label in enumerate(label_list)}\n",
        "label2id = {label: i for i, label in enumerate(label_list)}\n",
        "num_labels = len(label_list)\n",
        "\n",
        "model = BertForTokenClassification.from_pretrained(\n",
        "    'bert-base-uncased',\n",
        "    num_labels=num_labels,\n",
        "    id2label=id2label,\n",
        "    label2id=label2id\n",
        ")\n"
      ],
      "metadata": {
        "colab": {
          "base_uri": "https://localhost:8080/"
        },
        "id": "AdlkBz-8NZT6",
        "outputId": "6d6049e2-77ac-4b75-a11e-12fd81ebddcf"
      },
      "id": "AdlkBz-8NZT6",
      "execution_count": 37,
      "outputs": [
        {
          "output_type": "stream",
          "name": "stderr",
          "text": [
            "Some weights of BertForTokenClassification were not initialized from the model checkpoint at bert-base-uncased and are newly initialized: ['classifier.bias', 'classifier.weight']\n",
            "You should probably TRAIN this model on a down-stream task to be able to use it for predictions and inference.\n"
          ]
        }
      ]
    },
    {
      "cell_type": "code",
      "source": [
        "def tokenize_and_align_labels(examples):\n",
        "    tokenized_inputs = tokenizer(\n",
        "        examples[\"tokens\"],\n",
        "        truncation=True,\n",
        "        is_split_into_words=True,\n",
        "        padding=\"max_length\",\n",
        "        max_length=512\n",
        "    )\n",
        "\n",
        "    labels = []\n",
        "    for i, label in enumerate(examples[\"ner_tags\"]):\n",
        "        word_ids = tokenized_inputs.word_ids(batch_index=i)\n",
        "        previous_word_idx = None\n",
        "        label_ids = []\n",
        "        for word_idx in word_ids:\n",
        "            if word_idx is None:\n",
        "                label_ids.append(-100)\n",
        "            elif word_idx == previous_word_idx:\n",
        "                label_ids.append(-100)\n",
        "            else:\n",
        "                label_ids.append(label[word_idx])\n",
        "            previous_word_idx = word_idx\n",
        "        labels.append(label_ids)\n",
        "    tokenized_inputs[\"labels\"] = labels\n",
        "    return tokenized_inputs\n",
        "\n",
        "tokenized_datasets = dataset.map(tokenize_and_align_labels, batched=True)\n",
        "\n",
        "tokenized_datasets.set_format(\"torch\", columns=[\"input_ids\", \"attention_mask\", \"labels\"])\n"
      ],
      "metadata": {
        "colab": {
          "base_uri": "https://localhost:8080/",
          "height": 113,
          "referenced_widgets": [
            "b5de934dde9746fdb0e585f8d36a997e",
            "cf2b7fb460004be4b4586c664fb1dd30",
            "062b0abd21684d14ab7650e31d3e173e",
            "baf54087bdfd450d8c9445fe61048530",
            "f804c127ce394e94af137ab074300230",
            "8f2a08f9b13649be8ad8c347f80fa148",
            "d8be15d90651444fb366b5d45fdc37dd",
            "3c2231fe8208456898732a7e000d1839",
            "fecaa9c1e3d7455698a8f71e4d5dbdac",
            "be8571a24634464a841291387e52c581",
            "8f065c63a1a449cc8c791a2678cd5caa",
            "13afb37ff32946f89e361eeaef0dc9ad",
            "b5cd415de05343a4a856cb1a7a3dedb1",
            "ff8b535631004a6babc41e5e7e712a36",
            "0013ae0300a341efb52fcc1f8ea131db",
            "5e5125bef6ba40b9951d4527135980bc",
            "e260794b107a4fc8b32f92c6a760ff88",
            "68080f702731444d971c5a1247b95fe4",
            "fc0626301e40491d9a8409c147d506ee",
            "56df7d941ff84d118342183bb7685032",
            "754be2a6f0484040bfe9900b11930ff6",
            "6871e1727c6f4b7da0187602d898d2a1",
            "b25d483d4f254621ab4c1e6f96b3978d",
            "ddd2d270118d4448853b7ee3aceaecef",
            "742652cc793e43eab45506bae85bd29d",
            "6042988b98f142aea5c714b010a32453",
            "de5a2385df924cb3873cca3dcb050159",
            "d394e6e5957c4933811c87340d3017d8",
            "9a68c85ad2994cb1b2f0fac9deeec4e8",
            "731195fc9c1d41729109b02c29ed6800",
            "a30334e6058c4e6eacf9926a498abb36",
            "2382923249aa480bba5bcff071b0f989",
            "48c16959de7c403581d67d746cf0dbd0"
          ]
        },
        "id": "xp6FvQKoNedK",
        "outputId": "9017125d-f56b-48f9-e8ca-30bafc187815"
      },
      "id": "xp6FvQKoNedK",
      "execution_count": 38,
      "outputs": [
        {
          "output_type": "display_data",
          "data": {
            "text/plain": [
              "Map:   0%|          | 0/14041 [00:00<?, ? examples/s]"
            ],
            "application/vnd.jupyter.widget-view+json": {
              "version_major": 2,
              "version_minor": 0,
              "model_id": "b5de934dde9746fdb0e585f8d36a997e"
            }
          },
          "metadata": {}
        },
        {
          "output_type": "display_data",
          "data": {
            "text/plain": [
              "Map:   0%|          | 0/3250 [00:00<?, ? examples/s]"
            ],
            "application/vnd.jupyter.widget-view+json": {
              "version_major": 2,
              "version_minor": 0,
              "model_id": "13afb37ff32946f89e361eeaef0dc9ad"
            }
          },
          "metadata": {}
        },
        {
          "output_type": "display_data",
          "data": {
            "text/plain": [
              "Map:   0%|          | 0/3453 [00:00<?, ? examples/s]"
            ],
            "application/vnd.jupyter.widget-view+json": {
              "version_major": 2,
              "version_minor": 0,
              "model_id": "b25d483d4f254621ab4c1e6f96b3978d"
            }
          },
          "metadata": {}
        }
      ]
    },
    {
      "cell_type": "code",
      "source": [
        "train_subset_size = 1000\n",
        "eval_subset_size = 200\n",
        "test_subset_size = 200\n",
        "\n",
        "shuffled_train_dataset = tokenized_datasets[\"train\"].shuffle(seed=42)\n",
        "shuffled_validation_dataset = tokenized_datasets[\"validation\"].shuffle(seed=42)\n",
        "shuffled_test_dataset = tokenized_datasets[\"test\"].shuffle(seed=42)\n",
        "\n",
        "train_dataset_for_trainer = shuffled_train_dataset.select(range(train_subset_size))\n",
        "eval_dataset_for_trainer = shuffled_validation_dataset.select(range(eval_subset_size))\n",
        "test_dataset_for_trainer = shuffled_test_dataset.select(range(test_subset_size))\n",
        "\n"
      ],
      "metadata": {
        "id": "JP4EJsHrNiE9"
      },
      "id": "JP4EJsHrNiE9",
      "execution_count": 39,
      "outputs": []
    },
    {
      "cell_type": "code",
      "source": [
        "seqeval = load(\"seqeval\")\n",
        "\n",
        "def compute_metrics(p):\n",
        "    predictions, labels = p\n",
        "    predictions = np.argmax(predictions, axis=2)\n",
        "\n",
        "    true_predictions = [\n",
        "        [label_list[p] for (p, l) in zip(prediction, label) if l != -100]\n",
        "        for prediction, label in zip(predictions, labels)\n",
        "    ]\n",
        "    true_labels = [\n",
        "        [label_list[l] for (p, l) in zip(prediction, label) if l != -100]\n",
        "        for prediction, label in zip(predictions, labels)\n",
        "    ]\n",
        "\n",
        "    results = seqeval.compute(predictions=true_predictions, references=true_labels)\n",
        "    return {\n",
        "        \"precision\": results[\"overall_precision\"],\n",
        "        \"recall\": results[\"overall_recall\"],\n",
        "        \"f1\": results[\"overall_f1\"],\n",
        "        \"accuracy\": results[\"overall_accuracy\"],\n",
        "    }\n",
        "\n"
      ],
      "metadata": {
        "id": "MRG79nkKNljH"
      },
      "id": "MRG79nkKNljH",
      "execution_count": 40,
      "outputs": []
    },
    {
      "cell_type": "code",
      "source": [
        "training_args = TrainingArguments(\n",
        "    output_dir=\"./ner_results\",\n",
        "    num_train_epochs=3,\n",
        "    per_device_train_batch_size=8,\n",
        "    per_device_eval_batch_size=8,\n",
        "    warmup_steps=500,\n",
        "    weight_decay=0.01,\n",
        "    logging_dir=\"./ner_logs\",\n",
        "    logging_steps=100,\n",
        "    eval_strategy=\"epoch\",\n",
        "    save_strategy=\"epoch\",\n",
        "    load_best_model_at_end=True,\n",
        "    metric_for_best_model=\"f1\",\n",
        ")\n",
        "\n",
        "trainer = Trainer(\n",
        "    model=model,\n",
        "    args=training_args,\n",
        "    train_dataset=train_dataset_for_trainer,\n",
        "    eval_dataset=eval_dataset_for_trainer,\n",
        "    compute_metrics=compute_metrics,\n",
        "    tokenizer=tokenizer # Pass tokenizer to Trainer\n",
        ")\n",
        "\n",
        "trainer.train()\n",
        "\n",
        "test_results = trainer.evaluate(eval_dataset=test_dataset_for_trainer)\n",
        "print(test_results)\n"
      ],
      "metadata": {
        "colab": {
          "base_uri": "https://localhost:8080/",
          "height": 265
        },
        "id": "lK-6Fbm-NpJi",
        "outputId": "0521fcfe-9a90-43fc-8f91-55bcec9a6414"
      },
      "id": "lK-6Fbm-NpJi",
      "execution_count": 41,
      "outputs": [
        {
          "output_type": "stream",
          "name": "stderr",
          "text": [
            "/tmp/ipython-input-41-2547601056.py:16: FutureWarning: `tokenizer` is deprecated and will be removed in version 5.0.0 for `Trainer.__init__`. Use `processing_class` instead.\n",
            "  trainer = Trainer(\n"
          ]
        },
        {
          "output_type": "display_data",
          "data": {
            "text/plain": [
              "<IPython.core.display.HTML object>"
            ],
            "text/html": [
              "\n",
              "    <div>\n",
              "      \n",
              "      <progress value='375' max='375' style='width:300px; height:20px; vertical-align: middle;'></progress>\n",
              "      [375/375 05:45, Epoch 3/3]\n",
              "    </div>\n",
              "    <table border=\"1\" class=\"dataframe\">\n",
              "  <thead>\n",
              " <tr style=\"text-align: left;\">\n",
              "      <th>Epoch</th>\n",
              "      <th>Training Loss</th>\n",
              "      <th>Validation Loss</th>\n",
              "      <th>Precision</th>\n",
              "      <th>Recall</th>\n",
              "      <th>F1</th>\n",
              "      <th>Accuracy</th>\n",
              "    </tr>\n",
              "  </thead>\n",
              "  <tbody>\n",
              "    <tr>\n",
              "      <td>1</td>\n",
              "      <td>1.256700</td>\n",
              "      <td>0.319325</td>\n",
              "      <td>0.356502</td>\n",
              "      <td>0.435616</td>\n",
              "      <td>0.392109</td>\n",
              "      <td>0.915613</td>\n",
              "    </tr>\n",
              "    <tr>\n",
              "      <td>2</td>\n",
              "      <td>0.309200</td>\n",
              "      <td>0.119830</td>\n",
              "      <td>0.812834</td>\n",
              "      <td>0.832877</td>\n",
              "      <td>0.822733</td>\n",
              "      <td>0.969027</td>\n",
              "    </tr>\n",
              "    <tr>\n",
              "      <td>3</td>\n",
              "      <td>0.125300</td>\n",
              "      <td>0.071272</td>\n",
              "      <td>0.865079</td>\n",
              "      <td>0.895890</td>\n",
              "      <td>0.880215</td>\n",
              "      <td>0.979772</td>\n",
              "    </tr>\n",
              "  </tbody>\n",
              "</table><p>"
            ]
          },
          "metadata": {}
        },
        {
          "output_type": "display_data",
          "data": {
            "text/plain": [
              "<IPython.core.display.HTML object>"
            ],
            "text/html": [
              "\n",
              "    <div>\n",
              "      \n",
              "      <progress value='25' max='25' style='width:300px; height:20px; vertical-align: middle;'></progress>\n",
              "      [25/25 00:05]\n",
              "    </div>\n",
              "    "
            ]
          },
          "metadata": {}
        },
        {
          "output_type": "stream",
          "name": "stdout",
          "text": [
            "{'eval_loss': 0.15208958089351654, 'eval_precision': 0.7591623036649214, 'eval_recall': 0.838150289017341, 'eval_f1': 0.7967032967032968, 'eval_accuracy': 0.9591695501730104, 'eval_runtime': 5.9793, 'eval_samples_per_second': 33.449, 'eval_steps_per_second': 4.181, 'epoch': 3.0}\n"
          ]
        }
      ]
    },
    {
      "cell_type": "markdown",
      "source": [
        "The model shows strong and consistent improvement across epochs, culminating in an F1 score of 88.0% and accuracy of 97.98% by epoch 3. The drop in both training and validation loss reflects effective learning and good generalization. Final evaluation metrics (F1: 79.67%, Accuracy: 95.92%) further confirm the model's readiness for real-world inference or fine-tuning."
      ],
      "metadata": {
        "id": "5RsqvbKOZLwM"
      },
      "id": "5RsqvbKOZLwM"
    },
    {
      "cell_type": "code",
      "source": [
        "from transformers import BertForQuestionAnswering, BertTokenizer\n",
        "import torch\n",
        "\n",
        "tokenizer = BertTokenizer.from_pretrained('bert-large-uncased-whole-word-masking-finetuned-squad')\n",
        "\n",
        "model = BertForQuestionAnswering.from_pretrained('bert-large-uncased-whole-word-masking-finetuned-squad')\n",
        "\n",
        "\n"
      ],
      "metadata": {
        "colab": {
          "base_uri": "https://localhost:8080/"
        },
        "id": "D6Ga6cKL_mKK",
        "outputId": "9660db89-e201-49b8-8c3e-130394d2dcf4"
      },
      "id": "D6Ga6cKL_mKK",
      "execution_count": 42,
      "outputs": [
        {
          "output_type": "stream",
          "name": "stderr",
          "text": [
            "Some weights of the model checkpoint at bert-large-uncased-whole-word-masking-finetuned-squad were not used when initializing BertForQuestionAnswering: ['bert.pooler.dense.bias', 'bert.pooler.dense.weight']\n",
            "- This IS expected if you are initializing BertForQuestionAnswering from the checkpoint of a model trained on another task or with another architecture (e.g. initializing a BertForSequenceClassification model from a BertForPreTraining model).\n",
            "- This IS NOT expected if you are initializing BertForQuestionAnswering from the checkpoint of a model that you expect to be exactly identical (initializing a BertForSequenceClassification model from a BertForSequenceClassification model).\n"
          ]
        }
      ]
    },
    {
      "cell_type": "code",
      "source": [
        "context = \"\"\"\n",
        "The Amazon rainforest is the largest rainforest in the world, covering much of northwestern South America, including parts of Brazil, Peru, and Ecuador. It is renowned for its immense biodiversity, housing millions of species of insects, plants, birds, and other animals. The rainforest plays a crucial role in regulating the Earth's climate by absorbing vast amounts of carbon dioxide. Deforestation, primarily for cattle ranching and agriculture, poses a significant threat to its survival.\n",
        "\"\"\"\n",
        "\n",
        "question = \"Which countries are partly covered by the Amazon rainforest?\"\n",
        "\n",
        "inputs = tokenizer(question, context, return_tensors='pt')\n",
        "\n",
        "inputs = {k: v.to(model.device) for k, v in inputs.items()}\n",
        "\n",
        "with torch.no_grad():\n",
        "    outputs = model(**inputs)\n",
        "\n",
        "start_scores = outputs.start_logits\n",
        "end_scores = outputs.end_logits"
      ],
      "metadata": {
        "id": "UREkwGvGAzql"
      },
      "id": "UREkwGvGAzql",
      "execution_count": 43,
      "outputs": []
    },
    {
      "cell_type": "code",
      "source": [
        "answer_start_index = torch.argmax(start_scores)\n",
        "answer_end_index = torch.argmax(end_scores) + 1\n",
        "\n",
        "input_ids = inputs[\"input_ids\"].squeeze().tolist()\n",
        "tokens = tokenizer.convert_ids_to_tokens(input_ids)\n",
        "\n",
        "answer_tokens = tokens[answer_start_index:answer_end_index]\n",
        "answer = tokenizer.convert_tokens_to_string(answer_tokens)\n",
        "\n",
        "print(f\"Question: {question}\")\n",
        "print(f\"Context: {context}\")\n",
        "print(f\"Predicted Answer: {answer}\")\n"
      ],
      "metadata": {
        "colab": {
          "base_uri": "https://localhost:8080/"
        },
        "id": "OgnR9rmHA3iC",
        "outputId": "39cfbf1c-1844-428b-d5e1-c9076b6b93e8"
      },
      "id": "OgnR9rmHA3iC",
      "execution_count": 44,
      "outputs": [
        {
          "output_type": "stream",
          "name": "stdout",
          "text": [
            "Question: Which countries are partly covered by the Amazon rainforest?\n",
            "Context: \n",
            "The Amazon rainforest is the largest rainforest in the world, covering much of northwestern South America, including parts of Brazil, Peru, and Ecuador. It is renowned for its immense biodiversity, housing millions of species of insects, plants, birds, and other animals. The rainforest plays a crucial role in regulating the Earth's climate by absorbing vast amounts of carbon dioxide. Deforestation, primarily for cattle ranching and agriculture, poses a significant threat to its survival.\n",
            "\n",
            "Predicted Answer: brazil , peru , and ecuador\n"
          ]
        }
      ]
    },
    {
      "cell_type": "code",
      "source": [
        "import string\n",
        "import re\n",
        "\n",
        "def normalize_answer(s):\n",
        "    \"\"\"Lower text, remove punctuation, articles and extra whitespace.\"\"\"\n",
        "    def remove_articles(text):\n",
        "        return re.sub(r'\\b(a|an|the)\\b', ' ', text)\n",
        "\n",
        "    def white_space_fix(text):\n",
        "        return ' '.join(text.split())\n",
        "\n",
        "    def remove_punc(text):\n",
        "        return ''.join(ch for ch in text if ch not in set(string.punctuation))\n",
        "\n",
        "    def lower(text):\n",
        "        return text.lower()\n",
        "\n",
        "    return white_space_fix(remove_articles(remove_punc(lower(s))))\n",
        "\n",
        "\n",
        "def compute_exact(a_gold, a_pred):\n",
        "    return int(normalize_answer(a_gold) == normalize_answer(a_pred))\n",
        "\n",
        "def compute_f1(a_gold, a_pred):\n",
        "    gold_tokens = normalize_answer(a_gold).split()\n",
        "    pred_tokens = normalize_answer(a_pred).split()\n",
        "\n",
        "    common = set(gold_tokens) & set(pred_tokens)\n",
        "    num_same = sum(min(gold_tokens.count(w), pred_tokens.count(w)) for w in common)\n",
        "\n",
        "    if len(gold_tokens) == 0 or len(pred_tokens) == 0:\n",
        "        return int(gold_tokens == pred_tokens)\n",
        "    if num_same == 0:\n",
        "        return 0\n",
        "\n",
        "    precision = num_same / len(pred_tokens)\n",
        "    recall = num_same / len(gold_tokens)\n",
        "    f1 = 2 * precision * recall / (precision + recall)\n",
        "    return f1\n"
      ],
      "metadata": {
        "id": "RcDGGrHYKe8n"
      },
      "id": "RcDGGrHYKe8n",
      "execution_count": 45,
      "outputs": []
    },
    {
      "cell_type": "code",
      "source": [
        "gold_answer = \"Brazil, Peru, and Ecuador\"\n",
        "\n",
        "predicted_answer = answer\n",
        "\n",
        "em_score = compute_exact(gold_answer, predicted_answer)\n",
        "f1_score = compute_f1(gold_answer, predicted_answer)\n",
        "\n",
        "print(f\"Exact Match: {em_score}\")\n",
        "print(f\"F1 Score: {f1_score:.2f}\")\n"
      ],
      "metadata": {
        "colab": {
          "base_uri": "https://localhost:8080/"
        },
        "id": "3pmiBBeeKi7-",
        "outputId": "47a35fdf-da6a-4086-f3dd-8d5736a31cc8"
      },
      "id": "3pmiBBeeKi7-",
      "execution_count": 46,
      "outputs": [
        {
          "output_type": "stream",
          "name": "stdout",
          "text": [
            "Exact Match: 1\n",
            "F1 Score: 1.00\n"
          ]
        }
      ]
    },
    {
      "cell_type": "code",
      "source": [],
      "metadata": {
        "id": "1-FicokdN179"
      },
      "id": "1-FicokdN179",
      "execution_count": 46,
      "outputs": []
    },
    {
      "cell_type": "markdown",
      "source": [
        "## Architecture Overview\n",
        "\n",
        "BERT is an \"encoder-only\" Transformer architectur. Its key characteristic is its **bidirectional** nature, meaning it processes text by simultaneously considering the context from both the left and right of a word.\n",
        "\n",
        "\n",
        "\n",
        "## Pre-training Objectives (MLM, NSP)\n",
        "\n",
        "BERT is pre-trained on massive amounts of unlabeled text data (e.g., Wikipedia and BookCorpus) using two self-supervised tasks. This pre-training phase allows BERT to learn deep contextual representations of language.\n",
        "\n",
        "1.  **Masked Language Model (MLM)**\n",
        "\n",
        "2.  **Next Sentence Prediction (NSP)**\n",
        "---\n",
        "\n",
        "![Untitled.png](data:image/png;base64,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)"
      ],
      "metadata": {
        "id": "FF6EKL3fTJZG"
      },
      "id": "FF6EKL3fTJZG"
    },
    {
      "cell_type": "markdown",
      "source": [
        "\n",
        "## Dataset Used for Fine-tuning\n",
        "* **Sentiment Analysis (Sequence Classification)**:\n",
        "    * **Dataset**: **IMDb Movie Reviews Dataset**.\n",
        "    * **Characteristics**: Consists of movie reviews labeled as either `positive` or `negative`.\n",
        "\n",
        "* **Named Entity Recognition (Token Classification)**:\n",
        "    * **Dataset**: **CoNLL-2003 Dataset**.\n",
        "    * **Characteristics**: Contains news wire articles where individual tokens are tagged with named entities such as `PER` (Person), `LOC` (Location), `ORG` (Organization), and `MISC` (Miscellaneous), along with `O` (Outside of a named entity).\n",
        "\n",
        "* **Question Answering (Extractive QA)**:\n",
        "    * **Dataset**: **SQuAD (Stanford Question Answering Dataset)** is the common dataset for this task. The specific model used was pre-trained on a variant like `bert-large-uncased-whole-word-masking-finetuned-squad`.\n",
        "    * **Characteristics**: SQuAD consists of articles, and for each article, there are questions with corresponding answer spans extracted directly from the text.\n",
        "\n",
        "---\n"
      ],
      "metadata": {
        "id": "wK-M5MeIUBSV"
      },
      "id": "wK-M5MeIUBSV"
    },
    {
      "cell_type": "markdown",
      "source": [
        "\n",
        "## Practical Applications\n",
        "\n",
        "BERT's versatility, stemming from its robust pre-training, enables it to be applied to a wide array of NLP tasks:\n",
        "\n",
        "* **Sentiment Analysis**\n",
        "* **Named Entity Recognition**\n",
        "* **Question Answering (QA) Systems**\n",
        "* **Text Classification**\n",
        "* **Natural Language Inference (NLI)**\n",
        "* **Text Summarization**\n",
        "* **Information Retrieval/Search**\n",
        "\n",
        "---\n"
      ],
      "metadata": {
        "id": "9ndP4XPMUF1I"
      },
      "id": "9ndP4XPMUF1I"
    },
    {
      "cell_type": "code",
      "source": [],
      "metadata": {
        "id": "Xl4VH3dqTL9Z"
      },
      "id": "Xl4VH3dqTL9Z",
      "execution_count": 46,
      "outputs": []
    }
  ],
  "metadata": {
    "kernelspec": {
      "display_name": "Python 3",
      "name": "python3"
    },
    "language_info": {
      "codemirror_mode": {
        "name": "ipython",
        "version": 3
      },
      "file_extension": ".py",
      "mimetype": "text/x-python",
      "name": "python",
      "nbconvert_exporter": "python",
      "pygments_lexer": "ipython3",
      "version": "3.9.18"
    },
    "colab": {
      "provenance": [],
      "gpuType": "T4"
    },
    "accelerator": "GPU",
    "widgets": {
      "application/vnd.jupyter.widget-state+json": {
        "0e33588a828548cf88d335b7dab7e21a": {
          "model_module": "@jupyter-widgets/controls",
          "model_name": "HBoxModel",
          "model_module_version": "1.5.0",
          "state": {
            "_dom_classes": [],
            "_model_module": "@jupyter-widgets/controls",
            "_model_module_version": "1.5.0",
            "_model_name": "HBoxModel",
            "_view_count": null,
            "_view_module": "@jupyter-widgets/controls",
            "_view_module_version": "1.5.0",
            "_view_name": "HBoxView",
            "box_style": "",
            "children": [
              "IPY_MODEL_23ef03e0da8d419d8787231d5f2b1888",
              "IPY_MODEL_b59cbb98274c4c21a0b2766110fa3111",
              "IPY_MODEL_b1f494bfcbc144449f3b1d00fd648a76"
            ],
            "layout": "IPY_MODEL_4681df7611774d8095eeefadc9fe82a3"
          }
        },
        "23ef03e0da8d419d8787231d5f2b1888": {
          "model_module": "@jupyter-widgets/controls",
          "model_name": "HTMLModel",
          "model_module_version": "1.5.0",
          "state": {
            "_dom_classes": [],
            "_model_module": "@jupyter-widgets/controls",
            "_model_module_version": "1.5.0",
            "_model_name": "HTMLModel",
            "_view_count": null,
            "_view_module": "@jupyter-widgets/controls",
            "_view_module_version": "1.5.0",
            "_view_name": "HTMLView",
            "description": "",
            "description_tooltip": null,
            "layout": "IPY_MODEL_7c8a6836e085481ebbab8d1d6215c400",
            "placeholder": "​",
            "style": "IPY_MODEL_67cd387d064d480e9ba9a59cdc6017f2",
            "value": "Map: 100%"
          }
        },
        "b59cbb98274c4c21a0b2766110fa3111": {
          "model_module": "@jupyter-widgets/controls",
          "model_name": "FloatProgressModel",
          "model_module_version": "1.5.0",
          "state": {
            "_dom_classes": [],
            "_model_module": "@jupyter-widgets/controls",
            "_model_module_version": "1.5.0",
            "_model_name": "FloatProgressModel",
            "_view_count": null,
            "_view_module": "@jupyter-widgets/controls",
            "_view_module_version": "1.5.0",
            "_view_name": "ProgressView",
            "bar_style": "success",
            "description": "",
            "description_tooltip": null,
            "layout": "IPY_MODEL_3958035ac11b48b79ee4bb4df95e6ef2",
            "max": 500,
            "min": 0,
            "orientation": "horizontal",
            "style": "IPY_MODEL_31aeb7293a374afb867dd87e400f011b",
            "value": 500
          }
        },
        "b1f494bfcbc144449f3b1d00fd648a76": {
          "model_module": "@jupyter-widgets/controls",
          "model_name": "HTMLModel",
          "model_module_version": "1.5.0",
          "state": {
            "_dom_classes": [],
            "_model_module": "@jupyter-widgets/controls",
            "_model_module_version": "1.5.0",
            "_model_name": "HTMLModel",
            "_view_count": null,
            "_view_module": "@jupyter-widgets/controls",
            "_view_module_version": "1.5.0",
            "_view_name": "HTMLView",
            "description": "",
            "description_tooltip": null,
            "layout": "IPY_MODEL_2311e013459948f1925be833b0e90d1d",
            "placeholder": "​",
            "style": "IPY_MODEL_f6b2819bd9ee42a7af35e93f9856473e",
            "value": " 500/500 [00:01&lt;00:00, 257.94 examples/s]"
          }
        },
        "4681df7611774d8095eeefadc9fe82a3": {
          "model_module": "@jupyter-widgets/base",
          "model_name": "LayoutModel",
          "model_module_version": "1.2.0",
          "state": {
            "_model_module": "@jupyter-widgets/base",
            "_model_module_version": "1.2.0",
            "_model_name": "LayoutModel",
            "_view_count": null,
            "_view_module": "@jupyter-widgets/base",
            "_view_module_version": "1.2.0",
            "_view_name": "LayoutView",
            "align_content": null,
            "align_items": null,
            "align_self": null,
            "border": null,
            "bottom": null,
            "display": null,
            "flex": null,
            "flex_flow": null,
            "grid_area": null,
            "grid_auto_columns": null,
            "grid_auto_flow": null,
            "grid_auto_rows": null,
            "grid_column": null,
            "grid_gap": null,
            "grid_row": null,
            "grid_template_areas": null,
            "grid_template_columns": null,
            "grid_template_rows": null,
            "height": null,
            "justify_content": null,
            "justify_items": null,
            "left": null,
            "margin": null,
            "max_height": null,
            "max_width": null,
            "min_height": null,
            "min_width": null,
            "object_fit": null,
            "object_position": null,
            "order": null,
            "overflow": null,
            "overflow_x": null,
            "overflow_y": null,
            "padding": null,
            "right": null,
            "top": null,
            "visibility": null,
            "width": null
          }
        },
        "7c8a6836e085481ebbab8d1d6215c400": {
          "model_module": "@jupyter-widgets/base",
          "model_name": "LayoutModel",
          "model_module_version": "1.2.0",
          "state": {
            "_model_module": "@jupyter-widgets/base",
            "_model_module_version": "1.2.0",
            "_model_name": "LayoutModel",
            "_view_count": null,
            "_view_module": "@jupyter-widgets/base",
            "_view_module_version": "1.2.0",
            "_view_name": "LayoutView",
            "align_content": null,
            "align_items": null,
            "align_self": null,
            "border": null,
            "bottom": null,
            "display": null,
            "flex": null,
            "flex_flow": null,
            "grid_area": null,
            "grid_auto_columns": null,
            "grid_auto_flow": null,
            "grid_auto_rows": null,
            "grid_column": null,
            "grid_gap": null,
            "grid_row": null,
            "grid_template_areas": null,
            "grid_template_columns": null,
            "grid_template_rows": null,
            "height": null,
            "justify_content": null,
            "justify_items": null,
            "left": null,
            "margin": null,
            "max_height": null,
            "max_width": null,
            "min_height": null,
            "min_width": null,
            "object_fit": null,
            "object_position": null,
            "order": null,
            "overflow": null,
            "overflow_x": null,
            "overflow_y": null,
            "padding": null,
            "right": null,
            "top": null,
            "visibility": null,
            "width": null
          }
        },
        "67cd387d064d480e9ba9a59cdc6017f2": {
          "model_module": "@jupyter-widgets/controls",
          "model_name": "DescriptionStyleModel",
          "model_module_version": "1.5.0",
          "state": {
            "_model_module": "@jupyter-widgets/controls",
            "_model_module_version": "1.5.0",
            "_model_name": "DescriptionStyleModel",
            "_view_count": null,
            "_view_module": "@jupyter-widgets/base",
            "_view_module_version": "1.2.0",
            "_view_name": "StyleView",
            "description_width": ""
          }
        },
        "3958035ac11b48b79ee4bb4df95e6ef2": {
          "model_module": "@jupyter-widgets/base",
          "model_name": "LayoutModel",
          "model_module_version": "1.2.0",
          "state": {
            "_model_module": "@jupyter-widgets/base",
            "_model_module_version": "1.2.0",
            "_model_name": "LayoutModel",
            "_view_count": null,
            "_view_module": "@jupyter-widgets/base",
            "_view_module_version": "1.2.0",
            "_view_name": "LayoutView",
            "align_content": null,
            "align_items": null,
            "align_self": null,
            "border": null,
            "bottom": null,
            "display": null,
            "flex": null,
            "flex_flow": null,
            "grid_area": null,
            "grid_auto_columns": null,
            "grid_auto_flow": null,
            "grid_auto_rows": null,
            "grid_column": null,
            "grid_gap": null,
            "grid_row": null,
            "grid_template_areas": null,
            "grid_template_columns": null,
            "grid_template_rows": null,
            "height": null,
            "justify_content": null,
            "justify_items": null,
            "left": null,
            "margin": null,
            "max_height": null,
            "max_width": null,
            "min_height": null,
            "min_width": null,
            "object_fit": null,
            "object_position": null,
            "order": null,
            "overflow": null,
            "overflow_x": null,
            "overflow_y": null,
            "padding": null,
            "right": null,
            "top": null,
            "visibility": null,
            "width": null
          }
        },
        "31aeb7293a374afb867dd87e400f011b": {
          "model_module": "@jupyter-widgets/controls",
          "model_name": "ProgressStyleModel",
          "model_module_version": "1.5.0",
          "state": {
            "_model_module": "@jupyter-widgets/controls",
            "_model_module_version": "1.5.0",
            "_model_name": "ProgressStyleModel",
            "_view_count": null,
            "_view_module": "@jupyter-widgets/base",
            "_view_module_version": "1.2.0",
            "_view_name": "StyleView",
            "bar_color": null,
            "description_width": ""
          }
        },
        "2311e013459948f1925be833b0e90d1d": {
          "model_module": "@jupyter-widgets/base",
          "model_name": "LayoutModel",
          "model_module_version": "1.2.0",
          "state": {
            "_model_module": "@jupyter-widgets/base",
            "_model_module_version": "1.2.0",
            "_model_name": "LayoutModel",
            "_view_count": null,
            "_view_module": "@jupyter-widgets/base",
            "_view_module_version": "1.2.0",
            "_view_name": "LayoutView",
            "align_content": null,
            "align_items": null,
            "align_self": null,
            "border": null,
            "bottom": null,
            "display": null,
            "flex": null,
            "flex_flow": null,
            "grid_area": null,
            "grid_auto_columns": null,
            "grid_auto_flow": null,
            "grid_auto_rows": null,
            "grid_column": null,
            "grid_gap": null,
            "grid_row": null,
            "grid_template_areas": null,
            "grid_template_columns": null,
            "grid_template_rows": null,
            "height": null,
            "justify_content": null,
            "justify_items": null,
            "left": null,
            "margin": null,
            "max_height": null,
            "max_width": null,
            "min_height": null,
            "min_width": null,
            "object_fit": null,
            "object_position": null,
            "order": null,
            "overflow": null,
            "overflow_x": null,
            "overflow_y": null,
            "padding": null,
            "right": null,
            "top": null,
            "visibility": null,
            "width": null
          }
        },
        "f6b2819bd9ee42a7af35e93f9856473e": {
          "model_module": "@jupyter-widgets/controls",
          "model_name": "DescriptionStyleModel",
          "model_module_version": "1.5.0",
          "state": {
            "_model_module": "@jupyter-widgets/controls",
            "_model_module_version": "1.5.0",
            "_model_name": "DescriptionStyleModel",
            "_view_count": null,
            "_view_module": "@jupyter-widgets/base",
            "_view_module_version": "1.2.0",
            "_view_name": "StyleView",
            "description_width": ""
          }
        },
        "bc48758078924091b98f62edb1506bb6": {
          "model_module": "@jupyter-widgets/controls",
          "model_name": "HBoxModel",
          "model_module_version": "1.5.0",
          "state": {
            "_dom_classes": [],
            "_model_module": "@jupyter-widgets/controls",
            "_model_module_version": "1.5.0",
            "_model_name": "HBoxModel",
            "_view_count": null,
            "_view_module": "@jupyter-widgets/controls",
            "_view_module_version": "1.5.0",
            "_view_name": "HBoxView",
            "box_style": "",
            "children": [
              "IPY_MODEL_f01e4b139a9d483fb04a586f1231665c",
              "IPY_MODEL_1d692a7415524a26bf0f17fd5f1e79e1",
              "IPY_MODEL_a27250b77944452f851560a5b6abb071"
            ],
            "layout": "IPY_MODEL_1d1c5986d79a48f1a9698fa968f5b757"
          }
        },
        "f01e4b139a9d483fb04a586f1231665c": {
          "model_module": "@jupyter-widgets/controls",
          "model_name": "HTMLModel",
          "model_module_version": "1.5.0",
          "state": {
            "_dom_classes": [],
            "_model_module": "@jupyter-widgets/controls",
            "_model_module_version": "1.5.0",
            "_model_name": "HTMLModel",
            "_view_count": null,
            "_view_module": "@jupyter-widgets/controls",
            "_view_module_version": "1.5.0",
            "_view_name": "HTMLView",
            "description": "",
            "description_tooltip": null,
            "layout": "IPY_MODEL_f534f242722b4683b7b2bf663a10290e",
            "placeholder": "​",
            "style": "IPY_MODEL_acdfec06b18f40bd92452b84638f1c5f",
            "value": "Map: 100%"
          }
        },
        "1d692a7415524a26bf0f17fd5f1e79e1": {
          "model_module": "@jupyter-widgets/controls",
          "model_name": "FloatProgressModel",
          "model_module_version": "1.5.0",
          "state": {
            "_dom_classes": [],
            "_model_module": "@jupyter-widgets/controls",
            "_model_module_version": "1.5.0",
            "_model_name": "FloatProgressModel",
            "_view_count": null,
            "_view_module": "@jupyter-widgets/controls",
            "_view_module_version": "1.5.0",
            "_view_name": "ProgressView",
            "bar_style": "success",
            "description": "",
            "description_tooltip": null,
            "layout": "IPY_MODEL_6f0e596cd80b44f9b83f0a1f45467219",
            "max": 150,
            "min": 0,
            "orientation": "horizontal",
            "style": "IPY_MODEL_10121e7a13e44baf994f9ea3710595ff",
            "value": 150
          }
        },
        "a27250b77944452f851560a5b6abb071": {
          "model_module": "@jupyter-widgets/controls",
          "model_name": "HTMLModel",
          "model_module_version": "1.5.0",
          "state": {
            "_dom_classes": [],
            "_model_module": "@jupyter-widgets/controls",
            "_model_module_version": "1.5.0",
            "_model_name": "HTMLModel",
            "_view_count": null,
            "_view_module": "@jupyter-widgets/controls",
            "_view_module_version": "1.5.0",
            "_view_name": "HTMLView",
            "description": "",
            "description_tooltip": null,
            "layout": "IPY_MODEL_301141c14dc841cfa5a898d23c4d034e",
            "placeholder": "​",
            "style": "IPY_MODEL_f350025997054514a72e1846f26724da",
            "value": " 150/150 [00:00&lt;00:00, 265.48 examples/s]"
          }
        },
        "1d1c5986d79a48f1a9698fa968f5b757": {
          "model_module": "@jupyter-widgets/base",
          "model_name": "LayoutModel",
          "model_module_version": "1.2.0",
          "state": {
            "_model_module": "@jupyter-widgets/base",
            "_model_module_version": "1.2.0",
            "_model_name": "LayoutModel",
            "_view_count": null,
            "_view_module": "@jupyter-widgets/base",
            "_view_module_version": "1.2.0",
            "_view_name": "LayoutView",
            "align_content": null,
            "align_items": null,
            "align_self": null,
            "border": null,
            "bottom": null,
            "display": null,
            "flex": null,
            "flex_flow": null,
            "grid_area": null,
            "grid_auto_columns": null,
            "grid_auto_flow": null,
            "grid_auto_rows": null,
            "grid_column": null,
            "grid_gap": null,
            "grid_row": null,
            "grid_template_areas": null,
            "grid_template_columns": null,
            "grid_template_rows": null,
            "height": null,
            "justify_content": null,
            "justify_items": null,
            "left": null,
            "margin": null,
            "max_height": null,
            "max_width": null,
            "min_height": null,
            "min_width": null,
            "object_fit": null,
            "object_position": null,
            "order": null,
            "overflow": null,
            "overflow_x": null,
            "overflow_y": null,
            "padding": null,
            "right": null,
            "top": null,
            "visibility": null,
            "width": null
          }
        },
        "f534f242722b4683b7b2bf663a10290e": {
          "model_module": "@jupyter-widgets/base",
          "model_name": "LayoutModel",
          "model_module_version": "1.2.0",
          "state": {
            "_model_module": "@jupyter-widgets/base",
            "_model_module_version": "1.2.0",
            "_model_name": "LayoutModel",
            "_view_count": null,
            "_view_module": "@jupyter-widgets/base",
            "_view_module_version": "1.2.0",
            "_view_name": "LayoutView",
            "align_content": null,
            "align_items": null,
            "align_self": null,
            "border": null,
            "bottom": null,
            "display": null,
            "flex": null,
            "flex_flow": null,
            "grid_area": null,
            "grid_auto_columns": null,
            "grid_auto_flow": null,
            "grid_auto_rows": null,
            "grid_column": null,
            "grid_gap": null,
            "grid_row": null,
            "grid_template_areas": null,
            "grid_template_columns": null,
            "grid_template_rows": null,
            "height": null,
            "justify_content": null,
            "justify_items": null,
            "left": null,
            "margin": null,
            "max_height": null,
            "max_width": null,
            "min_height": null,
            "min_width": null,
            "object_fit": null,
            "object_position": null,
            "order": null,
            "overflow": null,
            "overflow_x": null,
            "overflow_y": null,
            "padding": null,
            "right": null,
            "top": null,
            "visibility": null,
            "width": null
          }
        },
        "acdfec06b18f40bd92452b84638f1c5f": {
          "model_module": "@jupyter-widgets/controls",
          "model_name": "DescriptionStyleModel",
          "model_module_version": "1.5.0",
          "state": {
            "_model_module": "@jupyter-widgets/controls",
            "_model_module_version": "1.5.0",
            "_model_name": "DescriptionStyleModel",
            "_view_count": null,
            "_view_module": "@jupyter-widgets/base",
            "_view_module_version": "1.2.0",
            "_view_name": "StyleView",
            "description_width": ""
          }
        },
        "6f0e596cd80b44f9b83f0a1f45467219": {
          "model_module": "@jupyter-widgets/base",
          "model_name": "LayoutModel",
          "model_module_version": "1.2.0",
          "state": {
            "_model_module": "@jupyter-widgets/base",
            "_model_module_version": "1.2.0",
            "_model_name": "LayoutModel",
            "_view_count": null,
            "_view_module": "@jupyter-widgets/base",
            "_view_module_version": "1.2.0",
            "_view_name": "LayoutView",
            "align_content": null,
            "align_items": null,
            "align_self": null,
            "border": null,
            "bottom": null,
            "display": null,
            "flex": null,
            "flex_flow": null,
            "grid_area": null,
            "grid_auto_columns": null,
            "grid_auto_flow": null,
            "grid_auto_rows": null,
            "grid_column": null,
            "grid_gap": null,
            "grid_row": null,
            "grid_template_areas": null,
            "grid_template_columns": null,
            "grid_template_rows": null,
            "height": null,
            "justify_content": null,
            "justify_items": null,
            "left": null,
            "margin": null,
            "max_height": null,
            "max_width": null,
            "min_height": null,
            "min_width": null,
            "object_fit": null,
            "object_position": null,
            "order": null,
            "overflow": null,
            "overflow_x": null,
            "overflow_y": null,
            "padding": null,
            "right": null,
            "top": null,
            "visibility": null,
            "width": null
          }
        },
        "10121e7a13e44baf994f9ea3710595ff": {
          "model_module": "@jupyter-widgets/controls",
          "model_name": "ProgressStyleModel",
          "model_module_version": "1.5.0",
          "state": {
            "_model_module": "@jupyter-widgets/controls",
            "_model_module_version": "1.5.0",
            "_model_name": "ProgressStyleModel",
            "_view_count": null,
            "_view_module": "@jupyter-widgets/base",
            "_view_module_version": "1.2.0",
            "_view_name": "StyleView",
            "bar_color": null,
            "description_width": ""
          }
        },
        "301141c14dc841cfa5a898d23c4d034e": {
          "model_module": "@jupyter-widgets/base",
          "model_name": "LayoutModel",
          "model_module_version": "1.2.0",
          "state": {
            "_model_module": "@jupyter-widgets/base",
            "_model_module_version": "1.2.0",
            "_model_name": "LayoutModel",
            "_view_count": null,
            "_view_module": "@jupyter-widgets/base",
            "_view_module_version": "1.2.0",
            "_view_name": "LayoutView",
            "align_content": null,
            "align_items": null,
            "align_self": null,
            "border": null,
            "bottom": null,
            "display": null,
            "flex": null,
            "flex_flow": null,
            "grid_area": null,
            "grid_auto_columns": null,
            "grid_auto_flow": null,
            "grid_auto_rows": null,
            "grid_column": null,
            "grid_gap": null,
            "grid_row": null,
            "grid_template_areas": null,
            "grid_template_columns": null,
            "grid_template_rows": null,
            "height": null,
            "justify_content": null,
            "justify_items": null,
            "left": null,
            "margin": null,
            "max_height": null,
            "max_width": null,
            "min_height": null,
            "min_width": null,
            "object_fit": null,
            "object_position": null,
            "order": null,
            "overflow": null,
            "overflow_x": null,
            "overflow_y": null,
            "padding": null,
            "right": null,
            "top": null,
            "visibility": null,
            "width": null
          }
        },
        "f350025997054514a72e1846f26724da": {
          "model_module": "@jupyter-widgets/controls",
          "model_name": "DescriptionStyleModel",
          "model_module_version": "1.5.0",
          "state": {
            "_model_module": "@jupyter-widgets/controls",
            "_model_module_version": "1.5.0",
            "_model_name": "DescriptionStyleModel",
            "_view_count": null,
            "_view_module": "@jupyter-widgets/base",
            "_view_module_version": "1.2.0",
            "_view_name": "StyleView",
            "description_width": ""
          }
        },
        "b5de934dde9746fdb0e585f8d36a997e": {
          "model_module": "@jupyter-widgets/controls",
          "model_name": "HBoxModel",
          "model_module_version": "1.5.0",
          "state": {
            "_dom_classes": [],
            "_model_module": "@jupyter-widgets/controls",
            "_model_module_version": "1.5.0",
            "_model_name": "HBoxModel",
            "_view_count": null,
            "_view_module": "@jupyter-widgets/controls",
            "_view_module_version": "1.5.0",
            "_view_name": "HBoxView",
            "box_style": "",
            "children": [
              "IPY_MODEL_cf2b7fb460004be4b4586c664fb1dd30",
              "IPY_MODEL_062b0abd21684d14ab7650e31d3e173e",
              "IPY_MODEL_baf54087bdfd450d8c9445fe61048530"
            ],
            "layout": "IPY_MODEL_f804c127ce394e94af137ab074300230"
          }
        },
        "cf2b7fb460004be4b4586c664fb1dd30": {
          "model_module": "@jupyter-widgets/controls",
          "model_name": "HTMLModel",
          "model_module_version": "1.5.0",
          "state": {
            "_dom_classes": [],
            "_model_module": "@jupyter-widgets/controls",
            "_model_module_version": "1.5.0",
            "_model_name": "HTMLModel",
            "_view_count": null,
            "_view_module": "@jupyter-widgets/controls",
            "_view_module_version": "1.5.0",
            "_view_name": "HTMLView",
            "description": "",
            "description_tooltip": null,
            "layout": "IPY_MODEL_8f2a08f9b13649be8ad8c347f80fa148",
            "placeholder": "​",
            "style": "IPY_MODEL_d8be15d90651444fb366b5d45fdc37dd",
            "value": "Map: 100%"
          }
        },
        "062b0abd21684d14ab7650e31d3e173e": {
          "model_module": "@jupyter-widgets/controls",
          "model_name": "FloatProgressModel",
          "model_module_version": "1.5.0",
          "state": {
            "_dom_classes": [],
            "_model_module": "@jupyter-widgets/controls",
            "_model_module_version": "1.5.0",
            "_model_name": "FloatProgressModel",
            "_view_count": null,
            "_view_module": "@jupyter-widgets/controls",
            "_view_module_version": "1.5.0",
            "_view_name": "ProgressView",
            "bar_style": "success",
            "description": "",
            "description_tooltip": null,
            "layout": "IPY_MODEL_3c2231fe8208456898732a7e000d1839",
            "max": 14041,
            "min": 0,
            "orientation": "horizontal",
            "style": "IPY_MODEL_fecaa9c1e3d7455698a8f71e4d5dbdac",
            "value": 14041
          }
        },
        "baf54087bdfd450d8c9445fe61048530": {
          "model_module": "@jupyter-widgets/controls",
          "model_name": "HTMLModel",
          "model_module_version": "1.5.0",
          "state": {
            "_dom_classes": [],
            "_model_module": "@jupyter-widgets/controls",
            "_model_module_version": "1.5.0",
            "_model_name": "HTMLModel",
            "_view_count": null,
            "_view_module": "@jupyter-widgets/controls",
            "_view_module_version": "1.5.0",
            "_view_name": "HTMLView",
            "description": "",
            "description_tooltip": null,
            "layout": "IPY_MODEL_be8571a24634464a841291387e52c581",
            "placeholder": "​",
            "style": "IPY_MODEL_8f065c63a1a449cc8c791a2678cd5caa",
            "value": " 14041/14041 [00:17&lt;00:00, 980.47 examples/s]"
          }
        },
        "f804c127ce394e94af137ab074300230": {
          "model_module": "@jupyter-widgets/base",
          "model_name": "LayoutModel",
          "model_module_version": "1.2.0",
          "state": {
            "_model_module": "@jupyter-widgets/base",
            "_model_module_version": "1.2.0",
            "_model_name": "LayoutModel",
            "_view_count": null,
            "_view_module": "@jupyter-widgets/base",
            "_view_module_version": "1.2.0",
            "_view_name": "LayoutView",
            "align_content": null,
            "align_items": null,
            "align_self": null,
            "border": null,
            "bottom": null,
            "display": null,
            "flex": null,
            "flex_flow": null,
            "grid_area": null,
            "grid_auto_columns": null,
            "grid_auto_flow": null,
            "grid_auto_rows": null,
            "grid_column": null,
            "grid_gap": null,
            "grid_row": null,
            "grid_template_areas": null,
            "grid_template_columns": null,
            "grid_template_rows": null,
            "height": null,
            "justify_content": null,
            "justify_items": null,
            "left": null,
            "margin": null,
            "max_height": null,
            "max_width": null,
            "min_height": null,
            "min_width": null,
            "object_fit": null,
            "object_position": null,
            "order": null,
            "overflow": null,
            "overflow_x": null,
            "overflow_y": null,
            "padding": null,
            "right": null,
            "top": null,
            "visibility": null,
            "width": null
          }
        },
        "8f2a08f9b13649be8ad8c347f80fa148": {
          "model_module": "@jupyter-widgets/base",
          "model_name": "LayoutModel",
          "model_module_version": "1.2.0",
          "state": {
            "_model_module": "@jupyter-widgets/base",
            "_model_module_version": "1.2.0",
            "_model_name": "LayoutModel",
            "_view_count": null,
            "_view_module": "@jupyter-widgets/base",
            "_view_module_version": "1.2.0",
            "_view_name": "LayoutView",
            "align_content": null,
            "align_items": null,
            "align_self": null,
            "border": null,
            "bottom": null,
            "display": null,
            "flex": null,
            "flex_flow": null,
            "grid_area": null,
            "grid_auto_columns": null,
            "grid_auto_flow": null,
            "grid_auto_rows": null,
            "grid_column": null,
            "grid_gap": null,
            "grid_row": null,
            "grid_template_areas": null,
            "grid_template_columns": null,
            "grid_template_rows": null,
            "height": null,
            "justify_content": null,
            "justify_items": null,
            "left": null,
            "margin": null,
            "max_height": null,
            "max_width": null,
            "min_height": null,
            "min_width": null,
            "object_fit": null,
            "object_position": null,
            "order": null,
            "overflow": null,
            "overflow_x": null,
            "overflow_y": null,
            "padding": null,
            "right": null,
            "top": null,
            "visibility": null,
            "width": null
          }
        },
        "d8be15d90651444fb366b5d45fdc37dd": {
          "model_module": "@jupyter-widgets/controls",
          "model_name": "DescriptionStyleModel",
          "model_module_version": "1.5.0",
          "state": {
            "_model_module": "@jupyter-widgets/controls",
            "_model_module_version": "1.5.0",
            "_model_name": "DescriptionStyleModel",
            "_view_count": null,
            "_view_module": "@jupyter-widgets/base",
            "_view_module_version": "1.2.0",
            "_view_name": "StyleView",
            "description_width": ""
          }
        },
        "3c2231fe8208456898732a7e000d1839": {
          "model_module": "@jupyter-widgets/base",
          "model_name": "LayoutModel",
          "model_module_version": "1.2.0",
          "state": {
            "_model_module": "@jupyter-widgets/base",
            "_model_module_version": "1.2.0",
            "_model_name": "LayoutModel",
            "_view_count": null,
            "_view_module": "@jupyter-widgets/base",
            "_view_module_version": "1.2.0",
            "_view_name": "LayoutView",
            "align_content": null,
            "align_items": null,
            "align_self": null,
            "border": null,
            "bottom": null,
            "display": null,
            "flex": null,
            "flex_flow": null,
            "grid_area": null,
            "grid_auto_columns": null,
            "grid_auto_flow": null,
            "grid_auto_rows": null,
            "grid_column": null,
            "grid_gap": null,
            "grid_row": null,
            "grid_template_areas": null,
            "grid_template_columns": null,
            "grid_template_rows": null,
            "height": null,
            "justify_content": null,
            "justify_items": null,
            "left": null,
            "margin": null,
            "max_height": null,
            "max_width": null,
            "min_height": null,
            "min_width": null,
            "object_fit": null,
            "object_position": null,
            "order": null,
            "overflow": null,
            "overflow_x": null,
            "overflow_y": null,
            "padding": null,
            "right": null,
            "top": null,
            "visibility": null,
            "width": null
          }
        },
        "fecaa9c1e3d7455698a8f71e4d5dbdac": {
          "model_module": "@jupyter-widgets/controls",
          "model_name": "ProgressStyleModel",
          "model_module_version": "1.5.0",
          "state": {
            "_model_module": "@jupyter-widgets/controls",
            "_model_module_version": "1.5.0",
            "_model_name": "ProgressStyleModel",
            "_view_count": null,
            "_view_module": "@jupyter-widgets/base",
            "_view_module_version": "1.2.0",
            "_view_name": "StyleView",
            "bar_color": null,
            "description_width": ""
          }
        },
        "be8571a24634464a841291387e52c581": {
          "model_module": "@jupyter-widgets/base",
          "model_name": "LayoutModel",
          "model_module_version": "1.2.0",
          "state": {
            "_model_module": "@jupyter-widgets/base",
            "_model_module_version": "1.2.0",
            "_model_name": "LayoutModel",
            "_view_count": null,
            "_view_module": "@jupyter-widgets/base",
            "_view_module_version": "1.2.0",
            "_view_name": "LayoutView",
            "align_content": null,
            "align_items": null,
            "align_self": null,
            "border": null,
            "bottom": null,
            "display": null,
            "flex": null,
            "flex_flow": null,
            "grid_area": null,
            "grid_auto_columns": null,
            "grid_auto_flow": null,
            "grid_auto_rows": null,
            "grid_column": null,
            "grid_gap": null,
            "grid_row": null,
            "grid_template_areas": null,
            "grid_template_columns": null,
            "grid_template_rows": null,
            "height": null,
            "justify_content": null,
            "justify_items": null,
            "left": null,
            "margin": null,
            "max_height": null,
            "max_width": null,
            "min_height": null,
            "min_width": null,
            "object_fit": null,
            "object_position": null,
            "order": null,
            "overflow": null,
            "overflow_x": null,
            "overflow_y": null,
            "padding": null,
            "right": null,
            "top": null,
            "visibility": null,
            "width": null
          }
        },
        "8f065c63a1a449cc8c791a2678cd5caa": {
          "model_module": "@jupyter-widgets/controls",
          "model_name": "DescriptionStyleModel",
          "model_module_version": "1.5.0",
          "state": {
            "_model_module": "@jupyter-widgets/controls",
            "_model_module_version": "1.5.0",
            "_model_name": "DescriptionStyleModel",
            "_view_count": null,
            "_view_module": "@jupyter-widgets/base",
            "_view_module_version": "1.2.0",
            "_view_name": "StyleView",
            "description_width": ""
          }
        },
        "13afb37ff32946f89e361eeaef0dc9ad": {
          "model_module": "@jupyter-widgets/controls",
          "model_name": "HBoxModel",
          "model_module_version": "1.5.0",
          "state": {
            "_dom_classes": [],
            "_model_module": "@jupyter-widgets/controls",
            "_model_module_version": "1.5.0",
            "_model_name": "HBoxModel",
            "_view_count": null,
            "_view_module": "@jupyter-widgets/controls",
            "_view_module_version": "1.5.0",
            "_view_name": "HBoxView",
            "box_style": "",
            "children": [
              "IPY_MODEL_b5cd415de05343a4a856cb1a7a3dedb1",
              "IPY_MODEL_ff8b535631004a6babc41e5e7e712a36",
              "IPY_MODEL_0013ae0300a341efb52fcc1f8ea131db"
            ],
            "layout": "IPY_MODEL_5e5125bef6ba40b9951d4527135980bc"
          }
        },
        "b5cd415de05343a4a856cb1a7a3dedb1": {
          "model_module": "@jupyter-widgets/controls",
          "model_name": "HTMLModel",
          "model_module_version": "1.5.0",
          "state": {
            "_dom_classes": [],
            "_model_module": "@jupyter-widgets/controls",
            "_model_module_version": "1.5.0",
            "_model_name": "HTMLModel",
            "_view_count": null,
            "_view_module": "@jupyter-widgets/controls",
            "_view_module_version": "1.5.0",
            "_view_name": "HTMLView",
            "description": "",
            "description_tooltip": null,
            "layout": "IPY_MODEL_e260794b107a4fc8b32f92c6a760ff88",
            "placeholder": "​",
            "style": "IPY_MODEL_68080f702731444d971c5a1247b95fe4",
            "value": "Map: 100%"
          }
        },
        "ff8b535631004a6babc41e5e7e712a36": {
          "model_module": "@jupyter-widgets/controls",
          "model_name": "FloatProgressModel",
          "model_module_version": "1.5.0",
          "state": {
            "_dom_classes": [],
            "_model_module": "@jupyter-widgets/controls",
            "_model_module_version": "1.5.0",
            "_model_name": "FloatProgressModel",
            "_view_count": null,
            "_view_module": "@jupyter-widgets/controls",
            "_view_module_version": "1.5.0",
            "_view_name": "ProgressView",
            "bar_style": "success",
            "description": "",
            "description_tooltip": null,
            "layout": "IPY_MODEL_fc0626301e40491d9a8409c147d506ee",
            "max": 3250,
            "min": 0,
            "orientation": "horizontal",
            "style": "IPY_MODEL_56df7d941ff84d118342183bb7685032",
            "value": 3250
          }
        },
        "0013ae0300a341efb52fcc1f8ea131db": {
          "model_module": "@jupyter-widgets/controls",
          "model_name": "HTMLModel",
          "model_module_version": "1.5.0",
          "state": {
            "_dom_classes": [],
            "_model_module": "@jupyter-widgets/controls",
            "_model_module_version": "1.5.0",
            "_model_name": "HTMLModel",
            "_view_count": null,
            "_view_module": "@jupyter-widgets/controls",
            "_view_module_version": "1.5.0",
            "_view_name": "HTMLView",
            "description": "",
            "description_tooltip": null,
            "layout": "IPY_MODEL_754be2a6f0484040bfe9900b11930ff6",
            "placeholder": "​",
            "style": "IPY_MODEL_6871e1727c6f4b7da0187602d898d2a1",
            "value": " 3250/3250 [00:02&lt;00:00, 1169.30 examples/s]"
          }
        },
        "5e5125bef6ba40b9951d4527135980bc": {
          "model_module": "@jupyter-widgets/base",
          "model_name": "LayoutModel",
          "model_module_version": "1.2.0",
          "state": {
            "_model_module": "@jupyter-widgets/base",
            "_model_module_version": "1.2.0",
            "_model_name": "LayoutModel",
            "_view_count": null,
            "_view_module": "@jupyter-widgets/base",
            "_view_module_version": "1.2.0",
            "_view_name": "LayoutView",
            "align_content": null,
            "align_items": null,
            "align_self": null,
            "border": null,
            "bottom": null,
            "display": null,
            "flex": null,
            "flex_flow": null,
            "grid_area": null,
            "grid_auto_columns": null,
            "grid_auto_flow": null,
            "grid_auto_rows": null,
            "grid_column": null,
            "grid_gap": null,
            "grid_row": null,
            "grid_template_areas": null,
            "grid_template_columns": null,
            "grid_template_rows": null,
            "height": null,
            "justify_content": null,
            "justify_items": null,
            "left": null,
            "margin": null,
            "max_height": null,
            "max_width": null,
            "min_height": null,
            "min_width": null,
            "object_fit": null,
            "object_position": null,
            "order": null,
            "overflow": null,
            "overflow_x": null,
            "overflow_y": null,
            "padding": null,
            "right": null,
            "top": null,
            "visibility": null,
            "width": null
          }
        },
        "e260794b107a4fc8b32f92c6a760ff88": {
          "model_module": "@jupyter-widgets/base",
          "model_name": "LayoutModel",
          "model_module_version": "1.2.0",
          "state": {
            "_model_module": "@jupyter-widgets/base",
            "_model_module_version": "1.2.0",
            "_model_name": "LayoutModel",
            "_view_count": null,
            "_view_module": "@jupyter-widgets/base",
            "_view_module_version": "1.2.0",
            "_view_name": "LayoutView",
            "align_content": null,
            "align_items": null,
            "align_self": null,
            "border": null,
            "bottom": null,
            "display": null,
            "flex": null,
            "flex_flow": null,
            "grid_area": null,
            "grid_auto_columns": null,
            "grid_auto_flow": null,
            "grid_auto_rows": null,
            "grid_column": null,
            "grid_gap": null,
            "grid_row": null,
            "grid_template_areas": null,
            "grid_template_columns": null,
            "grid_template_rows": null,
            "height": null,
            "justify_content": null,
            "justify_items": null,
            "left": null,
            "margin": null,
            "max_height": null,
            "max_width": null,
            "min_height": null,
            "min_width": null,
            "object_fit": null,
            "object_position": null,
            "order": null,
            "overflow": null,
            "overflow_x": null,
            "overflow_y": null,
            "padding": null,
            "right": null,
            "top": null,
            "visibility": null,
            "width": null
          }
        },
        "68080f702731444d971c5a1247b95fe4": {
          "model_module": "@jupyter-widgets/controls",
          "model_name": "DescriptionStyleModel",
          "model_module_version": "1.5.0",
          "state": {
            "_model_module": "@jupyter-widgets/controls",
            "_model_module_version": "1.5.0",
            "_model_name": "DescriptionStyleModel",
            "_view_count": null,
            "_view_module": "@jupyter-widgets/base",
            "_view_module_version": "1.2.0",
            "_view_name": "StyleView",
            "description_width": ""
          }
        },
        "fc0626301e40491d9a8409c147d506ee": {
          "model_module": "@jupyter-widgets/base",
          "model_name": "LayoutModel",
          "model_module_version": "1.2.0",
          "state": {
            "_model_module": "@jupyter-widgets/base",
            "_model_module_version": "1.2.0",
            "_model_name": "LayoutModel",
            "_view_count": null,
            "_view_module": "@jupyter-widgets/base",
            "_view_module_version": "1.2.0",
            "_view_name": "LayoutView",
            "align_content": null,
            "align_items": null,
            "align_self": null,
            "border": null,
            "bottom": null,
            "display": null,
            "flex": null,
            "flex_flow": null,
            "grid_area": null,
            "grid_auto_columns": null,
            "grid_auto_flow": null,
            "grid_auto_rows": null,
            "grid_column": null,
            "grid_gap": null,
            "grid_row": null,
            "grid_template_areas": null,
            "grid_template_columns": null,
            "grid_template_rows": null,
            "height": null,
            "justify_content": null,
            "justify_items": null,
            "left": null,
            "margin": null,
            "max_height": null,
            "max_width": null,
            "min_height": null,
            "min_width": null,
            "object_fit": null,
            "object_position": null,
            "order": null,
            "overflow": null,
            "overflow_x": null,
            "overflow_y": null,
            "padding": null,
            "right": null,
            "top": null,
            "visibility": null,
            "width": null
          }
        },
        "56df7d941ff84d118342183bb7685032": {
          "model_module": "@jupyter-widgets/controls",
          "model_name": "ProgressStyleModel",
          "model_module_version": "1.5.0",
          "state": {
            "_model_module": "@jupyter-widgets/controls",
            "_model_module_version": "1.5.0",
            "_model_name": "ProgressStyleModel",
            "_view_count": null,
            "_view_module": "@jupyter-widgets/base",
            "_view_module_version": "1.2.0",
            "_view_name": "StyleView",
            "bar_color": null,
            "description_width": ""
          }
        },
        "754be2a6f0484040bfe9900b11930ff6": {
          "model_module": "@jupyter-widgets/base",
          "model_name": "LayoutModel",
          "model_module_version": "1.2.0",
          "state": {
            "_model_module": "@jupyter-widgets/base",
            "_model_module_version": "1.2.0",
            "_model_name": "LayoutModel",
            "_view_count": null,
            "_view_module": "@jupyter-widgets/base",
            "_view_module_version": "1.2.0",
            "_view_name": "LayoutView",
            "align_content": null,
            "align_items": null,
            "align_self": null,
            "border": null,
            "bottom": null,
            "display": null,
            "flex": null,
            "flex_flow": null,
            "grid_area": null,
            "grid_auto_columns": null,
            "grid_auto_flow": null,
            "grid_auto_rows": null,
            "grid_column": null,
            "grid_gap": null,
            "grid_row": null,
            "grid_template_areas": null,
            "grid_template_columns": null,
            "grid_template_rows": null,
            "height": null,
            "justify_content": null,
            "justify_items": null,
            "left": null,
            "margin": null,
            "max_height": null,
            "max_width": null,
            "min_height": null,
            "min_width": null,
            "object_fit": null,
            "object_position": null,
            "order": null,
            "overflow": null,
            "overflow_x": null,
            "overflow_y": null,
            "padding": null,
            "right": null,
            "top": null,
            "visibility": null,
            "width": null
          }
        },
        "6871e1727c6f4b7da0187602d898d2a1": {
          "model_module": "@jupyter-widgets/controls",
          "model_name": "DescriptionStyleModel",
          "model_module_version": "1.5.0",
          "state": {
            "_model_module": "@jupyter-widgets/controls",
            "_model_module_version": "1.5.0",
            "_model_name": "DescriptionStyleModel",
            "_view_count": null,
            "_view_module": "@jupyter-widgets/base",
            "_view_module_version": "1.2.0",
            "_view_name": "StyleView",
            "description_width": ""
          }
        },
        "b25d483d4f254621ab4c1e6f96b3978d": {
          "model_module": "@jupyter-widgets/controls",
          "model_name": "HBoxModel",
          "model_module_version": "1.5.0",
          "state": {
            "_dom_classes": [],
            "_model_module": "@jupyter-widgets/controls",
            "_model_module_version": "1.5.0",
            "_model_name": "HBoxModel",
            "_view_count": null,
            "_view_module": "@jupyter-widgets/controls",
            "_view_module_version": "1.5.0",
            "_view_name": "HBoxView",
            "box_style": "",
            "children": [
              "IPY_MODEL_ddd2d270118d4448853b7ee3aceaecef",
              "IPY_MODEL_742652cc793e43eab45506bae85bd29d",
              "IPY_MODEL_6042988b98f142aea5c714b010a32453"
            ],
            "layout": "IPY_MODEL_de5a2385df924cb3873cca3dcb050159"
          }
        },
        "ddd2d270118d4448853b7ee3aceaecef": {
          "model_module": "@jupyter-widgets/controls",
          "model_name": "HTMLModel",
          "model_module_version": "1.5.0",
          "state": {
            "_dom_classes": [],
            "_model_module": "@jupyter-widgets/controls",
            "_model_module_version": "1.5.0",
            "_model_name": "HTMLModel",
            "_view_count": null,
            "_view_module": "@jupyter-widgets/controls",
            "_view_module_version": "1.5.0",
            "_view_name": "HTMLView",
            "description": "",
            "description_tooltip": null,
            "layout": "IPY_MODEL_d394e6e5957c4933811c87340d3017d8",
            "placeholder": "​",
            "style": "IPY_MODEL_9a68c85ad2994cb1b2f0fac9deeec4e8",
            "value": "Map: 100%"
          }
        },
        "742652cc793e43eab45506bae85bd29d": {
          "model_module": "@jupyter-widgets/controls",
          "model_name": "FloatProgressModel",
          "model_module_version": "1.5.0",
          "state": {
            "_dom_classes": [],
            "_model_module": "@jupyter-widgets/controls",
            "_model_module_version": "1.5.0",
            "_model_name": "FloatProgressModel",
            "_view_count": null,
            "_view_module": "@jupyter-widgets/controls",
            "_view_module_version": "1.5.0",
            "_view_name": "ProgressView",
            "bar_style": "success",
            "description": "",
            "description_tooltip": null,
            "layout": "IPY_MODEL_731195fc9c1d41729109b02c29ed6800",
            "max": 3453,
            "min": 0,
            "orientation": "horizontal",
            "style": "IPY_MODEL_a30334e6058c4e6eacf9926a498abb36",
            "value": 3453
          }
        },
        "6042988b98f142aea5c714b010a32453": {
          "model_module": "@jupyter-widgets/controls",
          "model_name": "HTMLModel",
          "model_module_version": "1.5.0",
          "state": {
            "_dom_classes": [],
            "_model_module": "@jupyter-widgets/controls",
            "_model_module_version": "1.5.0",
            "_model_name": "HTMLModel",
            "_view_count": null,
            "_view_module": "@jupyter-widgets/controls",
            "_view_module_version": "1.5.0",
            "_view_name": "HTMLView",
            "description": "",
            "description_tooltip": null,
            "layout": "IPY_MODEL_2382923249aa480bba5bcff071b0f989",
            "placeholder": "​",
            "style": "IPY_MODEL_48c16959de7c403581d67d746cf0dbd0",
            "value": " 3453/3453 [00:03&lt;00:00, 927.77 examples/s]"
          }
        },
        "de5a2385df924cb3873cca3dcb050159": {
          "model_module": "@jupyter-widgets/base",
          "model_name": "LayoutModel",
          "model_module_version": "1.2.0",
          "state": {
            "_model_module": "@jupyter-widgets/base",
            "_model_module_version": "1.2.0",
            "_model_name": "LayoutModel",
            "_view_count": null,
            "_view_module": "@jupyter-widgets/base",
            "_view_module_version": "1.2.0",
            "_view_name": "LayoutView",
            "align_content": null,
            "align_items": null,
            "align_self": null,
            "border": null,
            "bottom": null,
            "display": null,
            "flex": null,
            "flex_flow": null,
            "grid_area": null,
            "grid_auto_columns": null,
            "grid_auto_flow": null,
            "grid_auto_rows": null,
            "grid_column": null,
            "grid_gap": null,
            "grid_row": null,
            "grid_template_areas": null,
            "grid_template_columns": null,
            "grid_template_rows": null,
            "height": null,
            "justify_content": null,
            "justify_items": null,
            "left": null,
            "margin": null,
            "max_height": null,
            "max_width": null,
            "min_height": null,
            "min_width": null,
            "object_fit": null,
            "object_position": null,
            "order": null,
            "overflow": null,
            "overflow_x": null,
            "overflow_y": null,
            "padding": null,
            "right": null,
            "top": null,
            "visibility": null,
            "width": null
          }
        },
        "d394e6e5957c4933811c87340d3017d8": {
          "model_module": "@jupyter-widgets/base",
          "model_name": "LayoutModel",
          "model_module_version": "1.2.0",
          "state": {
            "_model_module": "@jupyter-widgets/base",
            "_model_module_version": "1.2.0",
            "_model_name": "LayoutModel",
            "_view_count": null,
            "_view_module": "@jupyter-widgets/base",
            "_view_module_version": "1.2.0",
            "_view_name": "LayoutView",
            "align_content": null,
            "align_items": null,
            "align_self": null,
            "border": null,
            "bottom": null,
            "display": null,
            "flex": null,
            "flex_flow": null,
            "grid_area": null,
            "grid_auto_columns": null,
            "grid_auto_flow": null,
            "grid_auto_rows": null,
            "grid_column": null,
            "grid_gap": null,
            "grid_row": null,
            "grid_template_areas": null,
            "grid_template_columns": null,
            "grid_template_rows": null,
            "height": null,
            "justify_content": null,
            "justify_items": null,
            "left": null,
            "margin": null,
            "max_height": null,
            "max_width": null,
            "min_height": null,
            "min_width": null,
            "object_fit": null,
            "object_position": null,
            "order": null,
            "overflow": null,
            "overflow_x": null,
            "overflow_y": null,
            "padding": null,
            "right": null,
            "top": null,
            "visibility": null,
            "width": null
          }
        },
        "9a68c85ad2994cb1b2f0fac9deeec4e8": {
          "model_module": "@jupyter-widgets/controls",
          "model_name": "DescriptionStyleModel",
          "model_module_version": "1.5.0",
          "state": {
            "_model_module": "@jupyter-widgets/controls",
            "_model_module_version": "1.5.0",
            "_model_name": "DescriptionStyleModel",
            "_view_count": null,
            "_view_module": "@jupyter-widgets/base",
            "_view_module_version": "1.2.0",
            "_view_name": "StyleView",
            "description_width": ""
          }
        },
        "731195fc9c1d41729109b02c29ed6800": {
          "model_module": "@jupyter-widgets/base",
          "model_name": "LayoutModel",
          "model_module_version": "1.2.0",
          "state": {
            "_model_module": "@jupyter-widgets/base",
            "_model_module_version": "1.2.0",
            "_model_name": "LayoutModel",
            "_view_count": null,
            "_view_module": "@jupyter-widgets/base",
            "_view_module_version": "1.2.0",
            "_view_name": "LayoutView",
            "align_content": null,
            "align_items": null,
            "align_self": null,
            "border": null,
            "bottom": null,
            "display": null,
            "flex": null,
            "flex_flow": null,
            "grid_area": null,
            "grid_auto_columns": null,
            "grid_auto_flow": null,
            "grid_auto_rows": null,
            "grid_column": null,
            "grid_gap": null,
            "grid_row": null,
            "grid_template_areas": null,
            "grid_template_columns": null,
            "grid_template_rows": null,
            "height": null,
            "justify_content": null,
            "justify_items": null,
            "left": null,
            "margin": null,
            "max_height": null,
            "max_width": null,
            "min_height": null,
            "min_width": null,
            "object_fit": null,
            "object_position": null,
            "order": null,
            "overflow": null,
            "overflow_x": null,
            "overflow_y": null,
            "padding": null,
            "right": null,
            "top": null,
            "visibility": null,
            "width": null
          }
        },
        "a30334e6058c4e6eacf9926a498abb36": {
          "model_module": "@jupyter-widgets/controls",
          "model_name": "ProgressStyleModel",
          "model_module_version": "1.5.0",
          "state": {
            "_model_module": "@jupyter-widgets/controls",
            "_model_module_version": "1.5.0",
            "_model_name": "ProgressStyleModel",
            "_view_count": null,
            "_view_module": "@jupyter-widgets/base",
            "_view_module_version": "1.2.0",
            "_view_name": "StyleView",
            "bar_color": null,
            "description_width": ""
          }
        },
        "2382923249aa480bba5bcff071b0f989": {
          "model_module": "@jupyter-widgets/base",
          "model_name": "LayoutModel",
          "model_module_version": "1.2.0",
          "state": {
            "_model_module": "@jupyter-widgets/base",
            "_model_module_version": "1.2.0",
            "_model_name": "LayoutModel",
            "_view_count": null,
            "_view_module": "@jupyter-widgets/base",
            "_view_module_version": "1.2.0",
            "_view_name": "LayoutView",
            "align_content": null,
            "align_items": null,
            "align_self": null,
            "border": null,
            "bottom": null,
            "display": null,
            "flex": null,
            "flex_flow": null,
            "grid_area": null,
            "grid_auto_columns": null,
            "grid_auto_flow": null,
            "grid_auto_rows": null,
            "grid_column": null,
            "grid_gap": null,
            "grid_row": null,
            "grid_template_areas": null,
            "grid_template_columns": null,
            "grid_template_rows": null,
            "height": null,
            "justify_content": null,
            "justify_items": null,
            "left": null,
            "margin": null,
            "max_height": null,
            "max_width": null,
            "min_height": null,
            "min_width": null,
            "object_fit": null,
            "object_position": null,
            "order": null,
            "overflow": null,
            "overflow_x": null,
            "overflow_y": null,
            "padding": null,
            "right": null,
            "top": null,
            "visibility": null,
            "width": null
          }
        },
        "48c16959de7c403581d67d746cf0dbd0": {
          "model_module": "@jupyter-widgets/controls",
          "model_name": "DescriptionStyleModel",
          "model_module_version": "1.5.0",
          "state": {
            "_model_module": "@jupyter-widgets/controls",
            "_model_module_version": "1.5.0",
            "_model_name": "DescriptionStyleModel",
            "_view_count": null,
            "_view_module": "@jupyter-widgets/base",
            "_view_module_version": "1.2.0",
            "_view_name": "StyleView",
            "description_width": ""
          }
        }
      }
    }
  },
  "nbformat": 4,
  "nbformat_minor": 5
}